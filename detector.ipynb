{
 "cells": [
  {
   "cell_type": "markdown",
   "id": "cb0d42fd",
   "metadata": {},
   "source": [
    "## 0. Установка путей"
   ]
  },
  {
   "cell_type": "code",
   "execution_count": null,
   "id": "2b9d76d4",
   "metadata": {},
   "outputs": [],
   "source": [
    "SCRIPTS_PATH = 'Tensorflow/scripts'\n",
    "WORKSPACE_PATH = 'Tensorflow/workspace'\n",
    "ANNOTATION_PATH = WORKSPACE_PATH + '/annotations'\n",
    "MODEL_PATH = WORKSPACE_PATH + '/models'\n",
    "APIMODEL_PATH = 'Tensorflow/models'\n",
    "IMAGE_PATH = WORKSPACE_PATH + '/images'\n",
    "CHECKPOINT_PATH = MODEL_PATH + '/my_ssd_mobnet/'\n",
    "PRETRAINED_MODEL_PATH = WORKSPACE_PATH + '/pre-trained-models'"
   ]
  },
  {
   "cell_type": "markdown",
   "id": "6aa80b5b",
   "metadata": {},
   "source": [
    "## 1. Создание карты меток"
   ]
  },
  {
   "cell_type": "code",
   "execution_count": null,
   "id": "b6e99b44",
   "metadata": {},
   "outputs": [],
   "source": [
    "labels = [{'name': 'Mask', 'id': 1}, {'name': 'NoMask', 'id': 2}]"
   ]
  },
  {
   "cell_type": "code",
   "execution_count": null,
   "id": "c84b3e32",
   "metadata": {},
   "outputs": [],
   "source": [
    "with open(ANNOTATION_PATH + '\\label_map.pbtxt', 'w') as f:\n",
    "    for label in labels:\n",
    "        f.write('item {\\n')\n",
    "        f.write('\\tname:\\'{}\\'\\n'.format(label['name']))\n",
    "        f.write('\\tid:{}\\n'.format(label['id']))\n",
    "        f.write('}\\n')"
   ]
  },
  {
   "cell_type": "markdown",
   "id": "031dd771",
   "metadata": {},
   "source": [
    "## 2. Создание файлов-записей обучения и теста Tensorflow"
   ]
  },
  {
   "cell_type": "code",
   "execution_count": null,
   "id": "6387ed90",
   "metadata": {},
   "outputs": [],
   "source": [
    "!python {SCRIPTS_PATH + '/generate_tfrecord.py'} -x {IMAGE_PATH + '/test'} -l {ANNOTATION_PATH + '/label_map.pbtxt'} -o {ANNOTATION_PATH + '/test.record'}\n",
    "!python {SCRIPTS_PATH + '/generate_tfrecord.py'} -x {IMAGE_PATH + '/train'} -l {ANNOTATION_PATH + '/label_map.pbtxt'} -o {ANNOTATION_PATH + '/train.record'}"
   ]
  },
  {
   "cell_type": "markdown",
   "id": "4b851481",
   "metadata": {},
   "source": [
    "## 3. Загрузка предварительно обученных моделей TensorFlow"
   ]
  },
  {
   "cell_type": "code",
   "execution_count": null,
   "id": "52621c8d",
   "metadata": {},
   "outputs": [],
   "source": [
    "!cd Tensorflow\n",
    "# !git clone https://github.com/tensorflow/models"
   ]
  },
  {
   "cell_type": "markdown",
   "id": "1b3438bf",
   "metadata": {},
   "source": [
    "## 4. Загрузка и распаковка одноэтапной модели обнаружения объектов SSD-MobileNet V2"
   ]
  },
  {
   "cell_type": "code",
   "execution_count": null,
   "id": "f5274043",
   "metadata": {},
   "outputs": [],
   "source": [
    "# # Загрузка тренированной модели\n",
    "# wget.download('http://download.tensorflow.org/models/object_detection/tf2/20200711/ssd_mobilenet_v2_fpnlite_320x320_coco17_tpu-8.tar.gz')\n",
    "# # Перемещение архива\n",
    "# !mv ssd_mobilenet_v2_fpnlite_320x320_coco17_tpu-8.tar.gz {PRETRAINED_MODEL_PATH}\n",
    "# # Перемещение в папку с архивом\n",
    "# !cd {PRETRAINED_MODEL_PATH} \n",
    "# # Распакова архива\n",
    "# !tar -zxvf ssd_mobilenet_v2_fpnlite_320x320_coco17_tpu-8.tar.gz"
   ]
  },
  {
   "cell_type": "markdown",
   "id": "47a305af",
   "metadata": {},
   "source": [
    "## 5. Копирование конфигурации модели в папку для обучения"
   ]
  },
  {
   "cell_type": "code",
   "execution_count": null,
   "id": "0321c594",
   "metadata": {},
   "outputs": [],
   "source": [
    "CUSTOM_MODEL_NAME = 'my_ssd_mobnet'"
   ]
  },
  {
   "cell_type": "code",
   "execution_count": null,
   "id": "332b824b",
   "metadata": {},
   "outputs": [],
   "source": [
    "!mkdir {'Tensorflow\\workspace\\models\\\\' + CUSTOM_MODEL_NAME}\n",
    "!cp {PRETRAINED_MODEL_PATH + '/ssd_mobilenet_v2_fpnlite_320x320_coco17_tpu-8/pipeline.config'} {MODEL_PATH + '/' + CUSTOM_MODEL_NAME}"
   ]
  },
  {
   "cell_type": "markdown",
   "id": "9abdb680",
   "metadata": {},
   "source": [
    "## 6. Обновления конфигурации для трансферного обучения"
   ]
  },
  {
   "cell_type": "code",
   "execution_count": null,
   "id": "45a2838b",
   "metadata": {},
   "outputs": [],
   "source": [
    "import tensorflow as tf\n",
    "from google.protobuf import text_format\n",
    "from object_detection.protos import pipeline_pb2\n",
    "from object_detection.utils import config_util"
   ]
  },
  {
   "cell_type": "code",
   "execution_count": null,
   "id": "5bcd0ddb",
   "metadata": {},
   "outputs": [],
   "source": [
    "CONFIG_FILE = MODEL_PATH + '/' + CUSTOM_MODEL_NAME + '/pipeline.config'\n",
    "config = config_util.get_configs_from_pipeline_file(CONFIG_FILE)"
   ]
  },
  {
   "cell_type": "code",
   "execution_count": null,
   "id": "5f14cd7b",
   "metadata": {},
   "outputs": [],
   "source": [
    "pipeline_config = pipeline_pb2.TrainEvalPipelineConfig()\n",
    "with tf.io.gfile.GFile(CONFIG_FILE, 'r') as f:\n",
    "    proto_str = f.read()\n",
    "    text_format.Merge(proto_str, pipeline_config)"
   ]
  },
  {
   "cell_type": "code",
   "execution_count": null,
   "id": "bceb59fa",
   "metadata": {},
   "outputs": [],
   "source": [
    "# Список изменений в конфигурации\n",
    "pipeline_config.model.ssd.num_classes = 2\n",
    "pipeline_config.train_config.batch_size = 4\n",
    "pipeline_config.train_config.fine_tune_checkpoint = PRETRAINED_MODEL_PATH + '/ssd_mobilenet_v2_fpnlite_320x320_coco17_tpu-8/checkpoint/ckpt-0'\n",
    "pipeline_config.train_config.fine_tune_checkpoint_type = \"detection\"\n",
    "pipeline_config.train_input_reader.label_map_path = ANNOTATION_PATH + '/label_map.pbtxt'\n",
    "pipeline_config.train_input_reader.tf_record_input_reader.input_path[:] = [ANNOTATION_PATH + '/train.record']\n",
    "pipeline_config.eval_input_reader[0].label_map_path = ANNOTATION_PATH + '/label_map.pbtxt'\n",
    "pipeline_config.eval_input_reader[0].tf_record_input_reader.input_path[:] = [ANNOTATION_PATH + '/test.record']"
   ]
  },
  {
   "cell_type": "code",
   "execution_count": null,
   "id": "4d316faa",
   "metadata": {},
   "outputs": [],
   "source": [
    "# Запись изменений в файл конфигурации\n",
    "config_text = text_format.MessageToString(pipeline_config)\n",
    "with tf.io.gfile.GFile(CONFIG_FILE, 'wb') as f:\n",
    "    f.write(config_text)"
   ]
  },
  {
   "cell_type": "markdown",
   "id": "57e24638",
   "metadata": {},
   "source": [
    "## 7. Тренировка модели"
   ]
  },
  {
   "cell_type": "code",
   "execution_count": null,
   "id": "7e4a2bd7",
   "metadata": {},
   "outputs": [],
   "source": [
    "print(\"\"\"python {}/research/object_detection/model_main_tf2.py --model_dir={}/{} --pipeline_config_path={}/{}/pipeline.config --num_train_steps=5000\"\"\".format(APIMODEL_PATH, MODEL_PATH,CUSTOM_MODEL_NAME,MODEL_PATH,CUSTOM_MODEL_NAME))\n",
    "# Для тренировки модели необходимо запустить выведенную команду в корневой директории проекта"
   ]
  },
  {
   "cell_type": "code",
   "execution_count": null,
   "id": "2067af44",
   "metadata": {},
   "outputs": [],
   "source": [
    "from object_detection.builders import model_builder\n",
    "from object_detection.utils import label_map_util\n",
    "from object_detection.utils import visualization_utils as viz_utilz\n",
    "import os"
   ]
  },
  {
   "cell_type": "code",
   "execution_count": null,
   "id": "7c18dd96",
   "metadata": {},
   "outputs": [],
   "source": [
    "# Загрузка конфигурации и построение модели обнаружения\n",
    "configs = config_util.get_configs_from_pipeline_file(CONFIG_FILE)\n",
    "detection_model = model_builder.build(model_config=configs['model'], is_training=False)\n",
    "\n",
    "# Восстановление точки сохранения\n",
    "ckpt = tf.compat.v2.train.Checkpoint(model=detection_model)\n",
    "ckpt.restore(os.path.join(CHECKPOINT_PATH, 'ckpt-6')).expect_partial()"
   ]
  },
  {
   "cell_type": "code",
   "execution_count": null,
   "id": "bace070c",
   "metadata": {},
   "outputs": [],
   "source": [
    "@tf.function\n",
    "def detect_fn(image):\n",
    "    image, shapes = detection_model.preprocess(image)\n",
    "    prediction_dict = detection_model.predict(image, shapes)\n",
    "    detections = detection_model.postprocess(prediction_dict, shapes)\n",
    "    return detections"
   ]
  },
  {
   "cell_type": "markdown",
   "id": "c9efb20d",
   "metadata": {},
   "source": [
    "## 9. Обнаружение маски в реальном времени"
   ]
  },
  {
   "cell_type": "code",
   "execution_count": null,
   "id": "c6bad920",
   "metadata": {},
   "outputs": [],
   "source": [
    "import cv2\n",
    "import numpy as np"
   ]
  },
  {
   "cell_type": "code",
   "execution_count": null,
   "id": "b473c03b",
   "metadata": {},
   "outputs": [],
   "source": [
    "category_index = label_map_util.create_category_index_from_labelmap(ANNOTATION_PATH + '/label_map.pbtxt')"
   ]
  },
  {
   "cell_type": "code",
   "execution_count": null,
   "id": "7a0476db",
   "metadata": {},
   "outputs": [],
   "source": [
    "cap = cv2.VideoCapture(0) # Видеозахват веб-камеры\n",
    "width = int(cap.get(cv2.CAP_PROP_FRAME_WIDTH))\n",
    "height = int(cap.get(cv2.CAP_PROP_FRAME_HEIGHT))"
   ]
  },
  {
   "cell_type": "code",
   "execution_count": null,
   "id": "e520ab97",
   "metadata": {
    "pycharm": {
     "name": "#%%\n"
    }
   },
   "outputs": [],
   "source": [
    "while True:\n",
    "    ret, frame = cap.read()\n",
    "    image_np = np.array(frame)\n",
    "\n",
    "    input_tensor = tf.convert_to_tensor(np.expand_dims(image_np, 0), dtype=tf.float32)\n",
    "    detections = detect_fn(input_tensor)\n",
    "\n",
    "    num_detections = int(detections.pop('num_detections'))\n",
    "    detections = {key: value[0, :num_detections].numpy()\n",
    "                  for key, value in detections.items()}\n",
    "    detections['num_detections'] = num_detections\n",
    "\n",
    "    # detection_classes should be ints.\n",
    "    detections['detection_classes'] = detections['detection_classes'].astype(np.int64)\n",
    "\n",
    "    label_id_offset = 1\n",
    "    image_np_with_detections = image_np.copy()\n",
    "\n",
    "    viz_utilz.visualize_boxes_and_labels_on_image_array(\n",
    "        image_np_with_detections,\n",
    "        detections['detection_boxes'],\n",
    "        detections['detection_classes'] + label_id_offset,\n",
    "        detections['detection_scores'],\n",
    "        category_index,\n",
    "        use_normalized_coordinates=True,\n",
    "        max_boxes_to_draw=5,\n",
    "        min_score_thresh=.5,\n",
    "        agnostic_mode=False\n",
    "    )\n",
    "\n",
    "    cv2.imshow('object detection', cv2.resize(image_np_with_detections, (800, 600)))\n",
    "\n",
    "    if cv2.waitKey(1) & 0xFF == ord('q'):\n",
    "        cap.release()\n",
    "        break"
   ]
  },
  {
   "cell_type": "code",
   "execution_count": null,
   "id": "9d87eb75",
   "metadata": {},
   "outputs": [],
   "source": []
  }
 ],
 "metadata": {
  "kernelspec": {
   "display_name": "Python 3 (ipykernel)",
   "language": "python",
   "name": "python3"
  },
  "language_info": {
   "codemirror_mode": {
    "name": "ipython",
    "version": 3
   },
   "file_extension": ".py",
   "mimetype": "text/x-python",
   "name": "python",
   "nbconvert_exporter": "python",
   "pygments_lexer": "ipython3",
   "version": "3.9.7"
  }
 },
 "nbformat": 4,
 "nbformat_minor": 5
}
