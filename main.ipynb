{
 "cells": [
  {
   "cell_type": "markdown",
   "id": "cb0d42fd",
   "metadata": {},
   "source": [
    "## 0. Установка путей"
   ]
  },
  {
   "cell_type": "code",
   "execution_count": 4,
   "id": "2b9d76d4",
   "metadata": {},
   "outputs": [],
   "source": [
    "SCRIPT_PATH = \"Tensorflow/scripts/generate_tfrecord.py\"\n",
    "WORKSPACE_PATH = \"Tensorflow/workspace\"\n",
    "APIMODEL_PATH = \"Tensorflow/models\"\n",
    "LABEL_MAP_PATH = WORKSPACE_PATH + \"/annotations/label_map.pbtxt\"\n",
    "TRAIN_RECORD_PATH = WORKSPACE_PATH + \"/annotations/train.record\"\n",
    "TEST_RECORD_PATH = WORKSPACE_PATH + \"/annotations/test.record\"\n",
    "MODEL_PATH = WORKSPACE_PATH + \"/models\"\n",
    "TRAIN_PATH = WORKSPACE_PATH + \"/images/train\"\n",
    "TEST_PATH = WORKSPACE_PATH + \"/images/test\"\n",
    "CHECKPOINT_PATH = MODEL_PATH + \"/my_ssd_mobnet/\"\n",
    "PRETRAINED_MODEL_PATH = WORKSPACE_PATH + \"/pre-trained-models\"\n",
    "PRETRAINED_MODEL_CONFIG = PRETRAINED_MODEL_PATH + '/ssd_mobilenet_v2_fpnlite_320x320_coco17_tpu-8/pipeline.config'\n",
    "CUSTOM_MODEL_NAME = \"my_ssd_mobnet\"\n",
    "APP_TITLE = \"Обнаружение маски\""
   ]
  },
  {
   "cell_type": "markdown",
   "id": "6aa80b5b",
   "metadata": {},
   "source": [
    "## 1. Создание карты меток"
   ]
  },
  {
   "cell_type": "code",
   "execution_count": 15,
   "id": "c84b3e32",
   "metadata": {},
   "outputs": [],
   "source": [
    "labels = [{\"name\": \"Mask\", \"id\": 1}, {\"name\": \"NoMask\", \"id\": 2}]\n",
    "\n",
    "with open(LABEL_MAP_PATH, \"w\") as f:\n",
    "    for label in labels:\n",
    "        f.write(\"item {\\n\")\n",
    "        f.write(\"\\tname:'{}'\\n\".format(label[\"name\"]))\n",
    "        f.write(\"\\tid:{}\\n\".format(label[\"id\"]))\n",
    "        f.write(\"}\\n\")"
   ]
  },
  {
   "cell_type": "markdown",
   "id": "031dd771",
   "metadata": {},
   "source": [
    "## 2. Создание файлов-записей обучения и теста Tensorflow"
   ]
  },
  {
   "cell_type": "code",
   "execution_count": 16,
   "id": "6387ed90",
   "metadata": {},
   "outputs": [
    {
     "name": "stdout",
     "output_type": "stream",
     "text": [
      "Файл TFRecord успешно создан: Tensorflow/workspace/annotations/train.record\n",
      "Файл TFRecord успешно создан: Tensorflow/workspace/annotations/test.record\n"
     ]
    }
   ],
   "source": [
    "!python {SCRIPT_PATH} -x {TRAIN_PATH} -l {LABEL_MAP_PATH} -o {TRAIN_RECORD_PATH}\n",
    "!python {SCRIPT_PATH} -x {TEST_PATH} -l {LABEL_MAP_PATH} -o {TEST_RECORD_PATH}"
   ]
  },
  {
   "cell_type": "markdown",
   "id": "4b851481",
   "metadata": {},
   "source": [
    "## 3. Загрузка предварительно обученных моделей TensorFlow"
   ]
  },
  {
   "cell_type": "code",
   "execution_count": 17,
   "id": "52621c8d",
   "metadata": {},
   "outputs": [
    {
     "name": "stderr",
     "output_type": "stream",
     "text": [
      "Cloning into 'models'...\n",
      "Updating files:  77% (2259/2900)\n",
      "Updating files:  78% (2262/2900)\n",
      "Updating files:  79% (2291/2900)\n",
      "Updating files:  80% (2320/2900)\n",
      "Updating files:  81% (2349/2900)\n",
      "Updating files:  82% (2378/2900)\n",
      "Updating files:  83% (2407/2900)\n",
      "Updating files:  84% (2436/2900)\n",
      "Updating files:  85% (2465/2900)\n",
      "Updating files:  86% (2494/2900)\n",
      "Updating files:  87% (2523/2900)\n",
      "Updating files:  88% (2552/2900)\n",
      "Updating files:  89% (2581/2900)\n",
      "Updating files:  90% (2610/2900)\n",
      "Updating files:  91% (2639/2900)\n",
      "Updating files:  92% (2668/2900)\n",
      "Updating files:  93% (2697/2900)\n",
      "Updating files:  94% (2726/2900)\n",
      "Updating files:  95% (2755/2900)\n",
      "Updating files:  96% (2784/2900)\n",
      "Updating files:  97% (2813/2900)\n",
      "Updating files:  98% (2842/2900)\n",
      "Updating files:  99% (2871/2900)\n",
      "Updating files: 100% (2900/2900)\n",
      "Updating files: 100% (2900/2900), done.\n"
     ]
    }
   ],
   "source": [
    "!cd Tensorflow"
   ]
  },
  {
   "cell_type": "code",
   "execution_count": null,
   "id": "0cd5863c",
   "metadata": {},
   "outputs": [],
   "source": [
    "# !git clone https://github.com/tensorflow/models"
   ]
  },
  {
   "cell_type": "markdown",
   "id": "1b3438bf",
   "metadata": {},
   "source": [
    "## 4. Загрузка и распаковка одноэтапной модели обнаружения объектов SSD-MobileNet V2"
   ]
  },
  {
   "cell_type": "code",
   "execution_count": 18,
   "id": "f5274043",
   "metadata": {},
   "outputs": [],
   "source": [
    "# # Загрузка тренированной модели\n",
    "# wget.download('http://download.tensorflow.org/models/object_detection/tf2/20200711/ssd_mobilenet_v2_fpnlite_320x320_coco17_tpu-8.tar.gz')\n",
    "# # Перемещение архива\n",
    "# !mv ssd_mobilenet_v2_fpnlite_320x320_coco17_tpu-8.tar.gz {PRETRAINED_MODEL_PATH}\n",
    "# # Перемещение в папку с архивом\n",
    "# !cd {PRETRAINED_MODEL_PATH}\n",
    "# # Распакова архива\n",
    "# !tar -zxvf ssd_mobilenet_v2_fpnlite_320x320_coco17_tpu-8.tar.gz"
   ]
  },
  {
   "cell_type": "markdown",
   "id": "47a305af",
   "metadata": {},
   "source": [
    "## 5. Копирование конфигурации модели в папку для обучения"
   ]
  },
  {
   "cell_type": "code",
   "execution_count": 19,
   "id": "332b824b",
   "metadata": {},
   "outputs": [
    {
     "name": "stderr",
     "output_type": "stream",
     "text": [
      "A subdirectory or file Tensorflow\\workspace\\models\\my_ssd_mobnet already exists.\n"
     ]
    }
   ],
   "source": [
    "!mkdir {'Tensorflow\\workspace\\models\\\\' + CUSTOM_MODEL_NAME}\n",
    "!cp {PRETRAINED_MODEL_CONFIG} {MODEL_PATH + '/' + CUSTOM_MODEL_NAME}"
   ]
  },
  {
   "cell_type": "markdown",
   "id": "9abdb680",
   "metadata": {},
   "source": [
    "## 6. Обновления конфигурации для трансферного обучения"
   ]
  },
  {
   "cell_type": "code",
   "execution_count": 1,
   "id": "45a2838b",
   "metadata": {},
   "outputs": [],
   "source": [
    "import tensorflow as tf\n",
    "from google.protobuf import text_format\n",
    "from object_detection.protos import pipeline_pb2\n",
    "from object_detection.utils import config_util, label_map_util"
   ]
  },
  {
   "cell_type": "code",
   "execution_count": 5,
   "id": "5bcd0ddb",
   "metadata": {},
   "outputs": [],
   "source": [
    "CONFIG_FILE = MODEL_PATH + \"/\" + CUSTOM_MODEL_NAME + \"/pipeline.config\"\n",
    "config = config_util.get_configs_from_pipeline_file(CONFIG_FILE)"
   ]
  },
  {
   "cell_type": "code",
   "execution_count": 22,
   "id": "5f14cd7b",
   "metadata": {},
   "outputs": [],
   "source": [
    "pipeline_config = pipeline_pb2.TrainEvalPipelineConfig()\n",
    "with tf.io.gfile.GFile(CONFIG_FILE, \"r\") as f:\n",
    "    proto_str = f.read()\n",
    "    text_format.Merge(proto_str, pipeline_config)"
   ]
  },
  {
   "cell_type": "code",
   "execution_count": 23,
   "id": "bceb59fa",
   "metadata": {},
   "outputs": [],
   "source": [
    "# Список изменений в конфигурации\n",
    "pipeline_config.model.ssd.num_classes = 2 # Количество классов (В маске и без маски)\n",
    "pipeline_config.train_config.batch_size = 6 # Чем больше размер партии - тем больше точность модели и длительность выполнение тренировки\n",
    "pipeline_config.train_config.fine_tune_checkpoint = (PRETRAINED_MODEL_PATH + \"/ssd_mobilenet_v2_fpnlite_320x320_coco17_tpu-8/checkpoint/ckpt-0\")\n",
    "pipeline_config.train_config.fine_tune_checkpoint_type = \"detection\"\n",
    "pipeline_config.train_input_reader.label_map_path = LABEL_MAP_PATH\n",
    "pipeline_config.train_input_reader.tf_record_input_reader.input_path[:] = [TRAIN_RECORD_PATH]\n",
    "pipeline_config.eval_input_reader[0].label_map_path = LABEL_MAP_PATH\n",
    "pipeline_config.eval_input_reader[0].tf_record_input_reader.input_path[:] = [TEST_RECORD_PATH]"
   ]
  },
  {
   "cell_type": "code",
   "execution_count": 24,
   "id": "4d316faa",
   "metadata": {},
   "outputs": [],
   "source": [
    "# Запись изменений в файл конфигурации\n",
    "config_text = text_format.MessageToString(pipeline_config)\n",
    "with tf.io.gfile.GFile(CONFIG_FILE, \"wb\") as f:\n",
    "    f.write(config_text)"
   ]
  },
  {
   "cell_type": "markdown",
   "id": "57e24638",
   "metadata": {},
   "source": [
    "## 7. Тренировка модели"
   ]
  },
  {
   "cell_type": "code",
   "execution_count": 25,
   "id": "7e4a2bd7",
   "metadata": {},
   "outputs": [
    {
     "name": "stdout",
     "output_type": "stream",
     "text": [
      "python Tensorflow/models/research/object_detection/model_main_tf2.py --model_dir=Tensorflow/workspace/models/my_ssd_mobnet --pipeline_config_path=Tensorflow/workspace/models/my_ssd_mobnet/pipeline.config --num_train_steps=6000\n"
     ]
    }
   ],
   "source": [
    "print(\n",
    "    \"\"\"python {}/research/object_detection/model_main_tf2.py --model_dir={}/{} --pipeline_config_path={}/{}/pipeline.config --num_train_steps=6000\"\"\"\n",
    "    .format(APIMODEL_PATH, MODEL_PATH, CUSTOM_MODEL_NAME, MODEL_PATH, CUSTOM_MODEL_NAME\n",
    "    )\n",
    ")\n",
    "# Для тренировки модели необходимо запустить выведенную команду в корневой директории проекта и только после завершения тренировки продолжить запуск кода"
   ]
  },
  {
   "cell_type": "markdown",
   "id": "87d8a848-3a24-445d-b169-0d46bc63cd78",
   "metadata": {},
   "source": [
    "## 8. Загрузка тренировочной модели с чекпоинта"
   ]
  },
  {
   "cell_type": "code",
   "execution_count": 2,
   "id": "2067af44",
   "metadata": {},
   "outputs": [],
   "source": [
    "from object_detection.builders import model_builder\n",
    "from object_detection.utils import visualization_utils as viz_utilz\n",
    "import os"
   ]
  },
  {
   "cell_type": "code",
   "execution_count": 9,
   "id": "7c18dd96",
   "metadata": {},
   "outputs": [
    {
     "data": {
      "text/plain": [
       "<tensorflow.python.training.tracking.util.CheckpointLoadStatus at 0x208362a1ca0>"
      ]
     },
     "execution_count": 9,
     "metadata": {},
     "output_type": "execute_result"
    }
   ],
   "source": [
    "# Загрузка конфигурации и построение модели обнаружения\n",
    "configs = config_util.get_configs_from_pipeline_file(CONFIG_FILE)\n",
    "detection_model = model_builder.build(model_config=configs[\"model\"], is_training=False)\n",
    "\n",
    "# Восстановление точки сохранения\n",
    "ckpt = tf.compat.v2.train.Checkpoint(model=detection_model)\n",
    "ckpt.restore(os.path.join(CHECKPOINT_PATH, \"ckpt-2\")).expect_partial()"
   ]
  },
  {
   "cell_type": "code",
   "execution_count": 10,
   "id": "bace070c",
   "metadata": {},
   "outputs": [],
   "source": [
    "@tf.function\n",
    "def detect(image):\n",
    "    image, shapes = detection_model.preprocess(image)\n",
    "    prediction_dict = detection_model.predict(image, shapes)\n",
    "    detections = detection_model.postprocess(prediction_dict, shapes)\n",
    "    return detections"
   ]
  },
  {
   "cell_type": "markdown",
   "id": "c9efb20d",
   "metadata": {},
   "source": [
    "## 9. Обнаружение маски в реальном времени"
   ]
  },
  {
   "cell_type": "code",
   "execution_count": 11,
   "id": "c6bad920",
   "metadata": {},
   "outputs": [],
   "source": [
    "import cv2  # Импорт библиотеки OpenCV для компьютерного видения\n",
    "import numpy as np"
   ]
  },
  {
   "cell_type": "code",
   "execution_count": 12,
   "id": "b473c03b",
   "metadata": {},
   "outputs": [],
   "source": [
    "category_index = label_map_util.create_category_index_from_labelmap(LABEL_MAP_PATH)"
   ]
  },
  {
   "cell_type": "code",
   "execution_count": 13,
   "id": "e520ab97",
   "metadata": {
    "pycharm": {
     "name": "#%%\n"
    }
   },
   "outputs": [],
   "source": [
    "camera = cv2.VideoCapture(0) # Видеозахват веб-камеры. В качестве аргумента указывается ID-устройства, либо путь к медиафайлу\n",
    "# # Получение ширины и высоты окна\n",
    "# width, height = ( \n",
    "#     int(camera.get(cv2.CAP_PROP_FRAME_WIDTH)),\n",
    "#     int(camera.get(cv2.CAP_PROP_FRAME_HEIGHT)),\n",
    "# )\n",
    "\n",
    "while True:\n",
    "    ret, frame = camera.read() # Считывание кадров с камеры\n",
    "    image_arr = np.array(frame) # Перевод кадров в массив\n",
    "\n",
    "    input_tensor = tf.convert_to_tensor(np.expand_dims(image_arr, 0), dtype=tf.float32)\n",
    "    detections = detect(input_tensor)\n",
    "\n",
    "    num_detections = int(detections.pop(\"num_detections\"))\n",
    "    detections = {\n",
    "        key: value[0, :num_detections].numpy() for key, value in detections.items()\n",
    "    }\n",
    "    detections[\"num_detections\"] = num_detections\n",
    "    detections[\"detection_classes\"] = detections[\"detection_classes\"].astype(np.int64)\n",
    "\n",
    "    label_id_offset = 1 # Для отсчёта классов с единицы, вместо нуля\n",
    "    image_arr_with_detections = image_arr.copy() # Копирование оригинального кадра для наложения визуализации\n",
    "\n",
    "    # Визуализация\n",
    "    viz_utilz.visualize_boxes_and_labels_on_image_array(\n",
    "        image_arr_with_detections,\n",
    "        detections[\"detection_boxes\"],\n",
    "        detections[\"detection_classes\"] + label_id_offset,\n",
    "        detections[\"detection_scores\"],\n",
    "        category_index,\n",
    "        use_normalized_coordinates=True, # Установка визуализации поверх объекта, а не в координатах (0, 0)\n",
    "        max_boxes_to_draw=2, # Максимальное количество визуализированных квадратов\n",
    "        line_thickness=2, # Толщина линий квадрата\n",
    "        min_score_thresh=0.5, # Минимальная отметка точности - 50%\n",
    "        agnostic_mode=False,\n",
    "    )\n",
    "\n",
    "    cv2.imshow(APP_TITLE, cv2.resize(image_arr_with_detections, (1000, 750)))  # Трансляция с камеры и установка размера окна\n",
    "\n",
    "    if cv2.waitKey(1) == ord(\"q\"): # Привязка завершения обнаружения на клавишу 'q'\n",
    "        break\n",
    "    \n",
    "camera.release() # Высвобождение камеры\n",
    "cv2.destroyAllWindows() # Закрытие окон OpenCV"
   ]
  },
  {
   "cell_type": "code",
   "execution_count": null,
   "id": "e9be6826",
   "metadata": {},
   "outputs": [],
   "source": []
  }
 ],
 "metadata": {
  "kernelspec": {
   "display_name": "Python 3 (ipykernel)",
   "language": "python",
   "name": "python3"
  },
  "language_info": {
   "codemirror_mode": {
    "name": "ipython",
    "version": 3
   },
   "file_extension": ".py",
   "mimetype": "text/x-python",
   "name": "python",
   "nbconvert_exporter": "python",
   "pygments_lexer": "ipython3",
   "version": "3.9.7"
  }
 },
 "nbformat": 4,
 "nbformat_minor": 5
}
