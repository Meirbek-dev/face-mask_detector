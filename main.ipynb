{
 "cells": [
  {
   "cell_type": "markdown",
   "id": "dbbbdb08",
   "metadata": {},
   "source": [
    "###### Установка и запуск приложения для отметки изображений"
   ]
  },
  {
   "cell_type": "code",
   "execution_count": null,
   "id": "989a9a54",
   "metadata": {
    "tags": []
   },
   "outputs": [],
   "source": [
    "# !git clone https://github.com/tzutalin/labelImg\n",
    "# !conda install pyqt=5\n",
    "# !conda install -c anaconda lxml\n",
    "# !cd labelImg & pyrcc5 -o libs/resources.py resources.qrc\n",
    "!python labelImg/labelImg.py"
   ]
  },
  {
   "cell_type": "markdown",
   "id": "785fb830-c180-4ae1-a17b-784ba8c059a9",
   "metadata": {},
   "source": [
    "### Создание директорий"
   ]
  },
  {
   "cell_type": "code",
   "execution_count": null,
   "id": "399935c1-9382-4548-8ac5-09e9c8014820",
   "metadata": {},
   "outputs": [],
   "source": [
    "# !mkdir Tensorflow\\workspace\n",
    "# !cd Tensorflow\\workspace &mkdir annotations images\\train images\\test models\\my_ssd_mobnet pre-trained-models"
   ]
  },
  {
   "cell_type": "markdown",
   "id": "ce188c67",
   "metadata": {},
   "source": [
    "## 0. Установка путей"
   ]
  },
  {
   "cell_type": "code",
   "execution_count": 1,
   "id": "2b9d76d4",
   "metadata": {},
   "outputs": [],
   "source": [
    "WORKSPACE_PATH = \"Tensorflow/workspace\"\n",
    "APIMODEL_PATH = \"Tensorflow/models\"\n",
    "SCRIPT_PATH = \"Tensorflow/scripts/generate_tfrecord.py\"\n",
    "LABEL_MAP_PATH = WORKSPACE_PATH + \"/annotations/label_map.pbtxt\"\n",
    "TRAIN_RECORD_PATH = WORKSPACE_PATH + \"/annotations/train.record\"\n",
    "TEST_RECORD_PATH = WORKSPACE_PATH + \"/annotations/test.record\"\n",
    "MODEL_PATH = WORKSPACE_PATH + \"/models\"\n",
    "TRAIN_PATH = WORKSPACE_PATH + \"/images/train\"\n",
    "TEST_PATH = WORKSPACE_PATH + \"/images/test\"\n",
    "CHECKPOINT_PATH = MODEL_PATH + \"/my_ssd_mobnet/\"\n",
    "PRETRAINED_MODEL_PATH = WORKSPACE_PATH + \"/pre-trained-models\"\n",
    "PRETRAINED_MODEL_CHECKPOINT = PRETRAINED_MODEL_PATH + \"/ssd_mobilenet_v2_fpnlite_320x320_coco17_tpu-8/checkpoint/ckpt-0\"\n",
    "PRETRAINED_MODEL_CONFIG = PRETRAINED_MODEL_PATH + '/ssd_mobilenet_v2_fpnlite_320x320_coco17_tpu-8/pipeline.config'\n",
    "CUSTOM_MODEL_NAME = \"my_ssd_mobnet\""
   ]
  },
  {
   "cell_type": "markdown",
   "id": "6aa80b5b",
   "metadata": {},
   "source": [
    "## 1. Создание карты меток"
   ]
  },
  {
   "cell_type": "code",
   "execution_count": 2,
   "id": "c84b3e32",
   "metadata": {},
   "outputs": [],
   "source": [
    "labels = [{\"name\": \"Mask\", \"id\": 1}, {\"name\": \"NoMask\", \"id\": 2}]\n",
    "\n",
    "with open(LABEL_MAP_PATH, \"w\") as f:\n",
    "    for label in labels:\n",
    "        f.write(\"item {\\n\" + \n",
    "                \"\\tname: '{name}'\\n\".format(**label) + \n",
    "                \"\\tid:{id}\\n\".format(**label) + \n",
    "                \"}\\n\")"
   ]
  },
  {
   "cell_type": "markdown",
   "id": "136556bf",
   "metadata": {},
   "source": [
    "## 2. Загрузка предварительно обученных моделей TensorFlow"
   ]
  },
  {
   "cell_type": "code",
   "execution_count": null,
   "id": "f7f923a5",
   "metadata": {},
   "outputs": [],
   "source": [
    "# !cd Tensorflow & git clone https://github.com/tensorflow/models"
   ]
  },
  {
   "cell_type": "markdown",
   "id": "5457a57f",
   "metadata": {},
   "source": [
    "### Установка необходимых пакетов для обнаржения объектов"
   ]
  },
  {
   "cell_type": "code",
   "execution_count": null,
   "id": "bca48375",
   "metadata": {
    "tags": []
   },
   "outputs": [],
   "source": [
    "# RESEARCH_PATH = \"Tensorflow/models/research\"\n",
    "# !cd {RESEARCH_PATH}&protoc object_detection/protos/*.proto --python_out=.\n",
    "# !cd {RESEARCH_PATH}&cp object_detection/packages/tf2/setup.py .\n",
    "# !cd {RESEARCH_PATH}&python -m pip install ."
   ]
  },
  {
   "cell_type": "markdown",
   "id": "031dd771",
   "metadata": {},
   "source": [
    "## 3. Создание файлов-записей Tensorflow для обучения и тестирования"
   ]
  },
  {
   "cell_type": "code",
   "execution_count": null,
   "id": "6387ed90",
   "metadata": {},
   "outputs": [],
   "source": [
    "!python {SCRIPT_PATH} -x {TRAIN_PATH} -l {LABEL_MAP_PATH} -o {TRAIN_RECORD_PATH}\n",
    "!python {SCRIPT_PATH} -x {TEST_PATH} -l {LABEL_MAP_PATH} -o {TEST_RECORD_PATH}"
   ]
  },
  {
   "cell_type": "markdown",
   "id": "1b3438bf",
   "metadata": {},
   "source": [
    "## 4. Загрузка и распаковка одноэтапной модели обнаружения объектов SSD-MobileNet V2"
   ]
  },
  {
   "cell_type": "code",
   "execution_count": null,
   "id": "f5274043",
   "metadata": {},
   "outputs": [],
   "source": [
    "# from wget import download\n",
    "# SSD_MobNetV2_URL = 'http://download.tensorflow.org/models/object_detection/tf2/20200711/ssd_mobilenet_v2_fpnlite_320x320_coco17_tpu-8.tar.gz'\n",
    "# download(SSD_MobNetV2_URL, out = PRETRAINED_MODEL_PATH)\n",
    "# # Перемещение в папку с архивом и распаковка\n",
    "# !cd {PRETRAINED_MODEL_PATH} & tar -xvf ssd_mobilenet_v2_fpnlite_320x320_coco17_tpu-8.tar.gz"
   ]
  },
  {
   "cell_type": "markdown",
   "id": "47a305af",
   "metadata": {
    "tags": []
   },
   "source": [
    "## 5. Копирование конфигурации модели в папку для обучения"
   ]
  },
  {
   "cell_type": "code",
   "execution_count": 3,
   "id": "332b824b",
   "metadata": {
    "tags": []
   },
   "outputs": [],
   "source": [
    "!cp {PRETRAINED_MODEL_CONFIG} {MODEL_PATH + '/' + CUSTOM_MODEL_NAME}"
   ]
  },
  {
   "cell_type": "markdown",
   "id": "9abdb680",
   "metadata": {},
   "source": [
    "## 6. Обновления конфигурации для трансферного обучения"
   ]
  },
  {
   "cell_type": "code",
   "execution_count": 3,
   "id": "45a2838b",
   "metadata": {},
   "outputs": [],
   "source": [
    "import tensorflow as tf\n",
    "from google.protobuf.text_format import Merge, MessageToString\n",
    "from object_detection.protos.pipeline_pb2 import TrainEvalPipelineConfig"
   ]
  },
  {
   "cell_type": "markdown",
   "id": "34b3b065-2cdb-470c-9d6d-da000882d253",
   "metadata": {},
   "source": [
    "Проверка доступности видеокарты"
   ]
  },
  {
   "cell_type": "code",
   "execution_count": 4,
   "id": "eca0507e-8c21-481d-acc6-5f7c971052e8",
   "metadata": {},
   "outputs": [
    {
     "name": "stdout",
     "output_type": "stream",
     "text": [
      "Количество доступных видеокарт: 1\n",
      "WARNING:tensorflow:From C:\\Users\\squoz\\AppData\\Local\\Temp\\ipykernel_3672\\3726482068.py:4: is_gpu_available (from tensorflow.python.framework.test_util) is deprecated and will be removed in a future version.\n",
      "Instructions for updating:\n",
      "Use `tf.config.list_physical_devices('GPU')` instead.\n",
      "Вычислительная мощность CUDA больше 5.0: True\n"
     ]
    }
   ],
   "source": [
    "available_gpus = tf.config.list_physical_devices('GPU')\n",
    "print(\"Количество доступных видеокарт:\", len(available_gpus))\n",
    "   \n",
    "is_cuda_gpu_min_5 = tf.test.is_gpu_available(True, (5,0))\n",
    "print('Вычислительная мощность CUDA больше 5.0:', is_cuda_gpu_min_5)"
   ]
  },
  {
   "cell_type": "code",
   "execution_count": 6,
   "id": "9c208ccb-6630-47bb-82a5-e5c558a16511",
   "metadata": {},
   "outputs": [],
   "source": [
    "for gpu in available_gpus: \n",
    "    tf.config.experimental.set_memory_growth(gpu, True)"
   ]
  },
  {
   "cell_type": "code",
   "execution_count": 5,
   "id": "5f14cd7b",
   "metadata": {},
   "outputs": [],
   "source": [
    "CONFIG_FILE = MODEL_PATH + \"/\" + CUSTOM_MODEL_NAME + \"/pipeline.config\"\n",
    "pipeline_config = TrainEvalPipelineConfig()\n",
    "\n",
    "with tf.io.gfile.GFile(CONFIG_FILE, \"r\") as f:\n",
    "    proto_str = f.read()\n",
    "    Merge(proto_str, pipeline_config)"
   ]
  },
  {
   "cell_type": "markdown",
   "id": "3def713f-3532-4744-b48b-ffe3d296307d",
   "metadata": {},
   "source": [
    "Список изменений в конфигурации"
   ]
  },
  {
   "cell_type": "code",
   "execution_count": 6,
   "id": "bceb59fa",
   "metadata": {},
   "outputs": [],
   "source": [
    "pipeline_config.model.ssd.num_classes = 2\n",
    "pipeline_config.train_config.batch_size = 8\n",
    "pipeline_config.train_config.fine_tune_checkpoint = (PRETRAINED_MODEL_PATH + \"/ssd_mobilenet_v2_fpnlite_320x320_coco17_tpu-8/checkpoint/ckpt-0\")\n",
    "pipeline_config.train_config.fine_tune_checkpoint_type = \"detection\"\n",
    "pipeline_config.train_input_reader.label_map_path = LABEL_MAP_PATH\n",
    "pipeline_config.train_input_reader.tf_record_input_reader.input_path[:] = [TRAIN_RECORD_PATH]\n",
    "pipeline_config.eval_input_reader[0].label_map_path = LABEL_MAP_PATH\n",
    "pipeline_config.eval_input_reader[0].tf_record_input_reader.input_path[:] = [TEST_RECORD_PATH]"
   ]
  },
  {
   "cell_type": "markdown",
   "id": "2d2b3714-0dbe-4554-9a5f-2512b614cd2c",
   "metadata": {},
   "source": [
    "Запись изменений в файл конфигурации"
   ]
  },
  {
   "cell_type": "code",
   "execution_count": 7,
   "id": "4d316faa",
   "metadata": {
    "scrolled": true
   },
   "outputs": [],
   "source": [
    "config_text = MessageToString(pipeline_config)\n",
    "with tf.io.gfile.GFile(CONFIG_FILE, \"wb\") as f:\n",
    "    f.write(config_text)"
   ]
  },
  {
   "cell_type": "markdown",
   "id": "57e24638",
   "metadata": {},
   "source": [
    "## 7. Тренировка модели"
   ]
  },
  {
   "cell_type": "markdown",
   "id": "4c0b0974-7f2e-42ad-8e42-f03312e44d72",
   "metadata": {},
   "source": [
    "Для тренировки модели необходимо запустить выведенную команду в корневой директории проекта и только после завершения тренировки продолжить запуск кода"
   ]
  },
  {
   "cell_type": "code",
   "execution_count": 10,
   "id": "7e4a2bd7",
   "metadata": {},
   "outputs": [
    {
     "name": "stdout",
     "output_type": "stream",
     "text": [
      "python Tensorflow/models/research/object_detection/model_main_tf2.py --model_dir=Tensorflow/workspace/models/my_ssd_mobnet --pipeline_config_path=Tensorflow/workspace/models/my_ssd_mobnet/pipeline.config --num_train_steps=8000\n"
     ]
    }
   ],
   "source": [
    "print(f\"python {APIMODEL_PATH}/research/object_detection/model_main_tf2.py \" \n",
    "      f\"--model_dir={MODEL_PATH}/{CUSTOM_MODEL_NAME} \"\n",
    "      f\"--pipeline_config_path={MODEL_PATH}/{CUSTOM_MODEL_NAME}/pipeline.config \"\n",
    "      \"--num_train_steps=8000\")"
   ]
  },
  {
   "cell_type": "markdown",
   "id": "87d8a848-3a24-445d-b169-0d46bc63cd78",
   "metadata": {},
   "source": [
    "## 8. Загрузка тренировочной модели с чекпоинта"
   ]
  },
  {
   "cell_type": "code",
   "execution_count": 8,
   "id": "2067af44",
   "metadata": {},
   "outputs": [],
   "source": [
    "from object_detection.builders.model_builder import build\n",
    "from object_detection.utils.config_util import get_configs_from_pipeline_file\n",
    "from os.path import join"
   ]
  },
  {
   "cell_type": "markdown",
   "id": "0f9f42c0-addc-4e91-9902-2c22291c79ce",
   "metadata": {},
   "source": [
    "Загрузка конфигурации и построение модели обнаружения"
   ]
  },
  {
   "cell_type": "code",
   "execution_count": 9,
   "id": "7c18dd96",
   "metadata": {},
   "outputs": [],
   "source": [
    "configs = get_configs_from_pipeline_file(CONFIG_FILE)\n",
    "detection_model = build(model_config=configs[\"model\"], is_training=False)"
   ]
  },
  {
   "cell_type": "markdown",
   "id": "abd2b886-bd77-483a-8e06-1a6a8612726a",
   "metadata": {},
   "source": [
    "Восстановление точки сохранения"
   ]
  },
  {
   "cell_type": "code",
   "execution_count": 10,
   "id": "f777f0d9-069e-42d5-a017-d2e6e862eefc",
   "metadata": {},
   "outputs": [
    {
     "data": {
      "text/plain": [
       "<tensorflow.python.training.tracking.util.CheckpointLoadStatus at 0x2a3f268a7c0>"
      ]
     },
     "execution_count": 10,
     "metadata": {},
     "output_type": "execute_result"
    }
   ],
   "source": [
    "ckpt = tf.compat.v2.train.Checkpoint(model=detection_model)\n",
    "ckpt.restore(join(CHECKPOINT_PATH, \"ckpt-10\")).expect_partial()"
   ]
  },
  {
   "cell_type": "code",
   "execution_count": 11,
   "id": "bace070c",
   "metadata": {},
   "outputs": [],
   "source": [
    "@tf.function\n",
    "def detect(image):\n",
    "    image, shapes = detection_model.preprocess(image)\n",
    "    prediction_dict = detection_model.predict(image, shapes)\n",
    "    detections = detection_model.postprocess(prediction_dict, shapes)\n",
    "    return detections"
   ]
  },
  {
   "cell_type": "markdown",
   "id": "c9efb20d",
   "metadata": {},
   "source": [
    "## 9. Обнаружение маски в реальном времени"
   ]
  },
  {
   "cell_type": "code",
   "execution_count": 12,
   "id": "c6bad920",
   "metadata": {},
   "outputs": [],
   "source": [
    "import cv2\n",
    "from numpy import array, expand_dims, int64\n",
    "from object_detection.utils.label_map_util import create_category_index_from_labelmap\n",
    "from object_detection.utils.visualization_utils import visualize_boxes_and_labels_on_image_array"
   ]
  },
  {
   "cell_type": "code",
   "execution_count": 13,
   "id": "b473c03b",
   "metadata": {},
   "outputs": [],
   "source": [
    "category_index = create_category_index_from_labelmap(LABEL_MAP_PATH)"
   ]
  },
  {
   "cell_type": "code",
   "execution_count": 14,
   "id": "3d747ba9-11fb-44c5-9acc-f56974e05505",
   "metadata": {},
   "outputs": [],
   "source": [
    "# Видеозахват веб-камеры. В качестве аргумента указывается ID-устройства, либо путь к медиафайлу\n",
    "camera = cv2.VideoCapture(0)\n",
    "# # Получение ширины и высоты окна\n",
    "# width, height = ( \n",
    "#     int(camera.get(cv2.CAP_PROP_FRAME_WIDTH)),\n",
    "#     int(camera.get(cv2.CAP_PROP_FRAME_HEIGHT)),\n",
    "# )"
   ]
  },
  {
   "cell_type": "code",
   "execution_count": null,
   "id": "e520ab97",
   "metadata": {
    "pycharm": {
     "name": "#%%\n"
    },
    "tags": []
   },
   "outputs": [],
   "source": [
    "from tkinter import Tk\n",
    "from tkinter.messagebox import askyesno\n",
    "\n",
    "root = Tk()\n",
    "root.withdraw()\n",
    "\n",
    "while camera.isOpened():\n",
    "    # Считывание кадров с камеры\n",
    "    _, frame = camera.read()\n",
    "    # Перевод кадров в массив\n",
    "    image_arr = array(frame)\n",
    "    # Перевод массива в тензоры\n",
    "    input_tensor = tf.convert_to_tensor(expand_dims(image_arr, 0), dtype=tf.float32)\n",
    "    detections = detect(input_tensor)\n",
    "    num_detections = int(detections.pop(\"num_detections\"))\n",
    "    detections = {\n",
    "        key: value[0, :num_detections].numpy() for key, value in detections.items()\n",
    "    }\n",
    "    detections[\"num_detections\"] = num_detections\n",
    "    detections[\"detection_classes\"] = detections[\"detection_classes\"].astype(int64)\n",
    "        \n",
    "    # Для отсчёта индекса классов с единицы, вместо нуля\n",
    "    label_id_offset = 1\n",
    "    # Копирование оригинального кадра для наложения визуализации\n",
    "    image_arr_with_detections = image_arr.copy()\n",
    "\n",
    "    # Визуализация\n",
    "    visualize_boxes_and_labels_on_image_array(\n",
    "        image_arr_with_detections,\n",
    "        detections[\"detection_boxes\"],\n",
    "        detections[\"detection_classes\"] + label_id_offset,\n",
    "        detections[\"detection_scores\"],\n",
    "        category_index,\n",
    "        # Установка визуализации поверх объекта обнаружения, а не в координатах (0, 0)\n",
    "        use_normalized_coordinates=True,\n",
    "        # Максимальное количество визуализированных полей\n",
    "        max_boxes_to_draw=1,\n",
    "        # Толщина линий поля\n",
    "        line_thickness=2,\n",
    "        # Минимальная отметка точности - 50%\n",
    "        min_score_thresh=0.5\n",
    "#         agnostic_mode=False\n",
    "    )\n",
    "    \n",
    "    # Трансляция с камеры и установка размера окна\n",
    "    cv2.imshow(\n",
    "        'Обнаружение маски. Для выхода нажмите \"q\"',\n",
    "        cv2.resize(image_arr_with_detections, (800, 600))\n",
    "    )\n",
    "    # Проверка на наличие маски\n",
    "    no_mask = (detections[\"detection_classes\"][0])\n",
    "    if no_mask:\n",
    "        prompt = askyesno(\n",
    "            'Предупреждение',\n",
    "            'Наденьте маску и нажмите \"Yes\", чтобы продолжить\\nНажмите \"No\", чтобы выйти'\n",
    "        ) \n",
    "        if prompt:\n",
    "            continue\n",
    "        elif not prompt:\n",
    "            break\n",
    "    # Привязка завершения цикла обнаружения на клавишу 'q'\n",
    "    if cv2.waitKey(1) & 0xFF == ord('q'):\n",
    "        break\n",
    "\n",
    "root.quit()\n",
    "# Высвобождение камеры\n",
    "camera.release()\n",
    "# Закрытие окон OpenCV\n",
    "cv2.destroyAllWindows()"
   ]
  },
  {
   "cell_type": "markdown",
   "id": "1e3a9373-9869-4cd6-9bd0-06049d824811",
   "metadata": {},
   "source": [
    "## Версия со звуковым сигналом"
   ]
  },
  {
   "cell_type": "code",
   "execution_count": null,
   "id": "f4bacdd7-6ee7-4e7d-9462-7236aaa73c30",
   "metadata": {},
   "outputs": [],
   "source": [
    "from vlc import MediaPlayer\n",
    "\n",
    "snd = MediaPlayer(\"sounds/sound-2.mp3\")\n",
    "\n",
    "while camera.isOpened():\n",
    "    # Считывание кадров с камеры\n",
    "    _, frame = camera.read()\n",
    "    # Перевод кадров в массив\n",
    "    image_arr = array(frame)\n",
    "    # Перевод массива в тензоры\n",
    "    input_tensor = tf.convert_to_tensor(expand_dims(image_arr, 0), dtype=tf.float32)\n",
    "    detections = detect(input_tensor)\n",
    "    num_detections = int(detections.pop(\"num_detections\"))\n",
    "    detections = {\n",
    "        key: value[0, :num_detections].numpy() for key, value in detections.items()\n",
    "    }\n",
    "    detections[\"num_detections\"] = num_detections\n",
    "    detections[\"detection_classes\"] = detections[\"detection_classes\"].astype(int64)\n",
    "        \n",
    "    # Для отсчёта индекса классов с единицы, вместо нуля\n",
    "    label_id_offset = 1\n",
    "    # Копирование оригинального кадра для наложения визуализации\n",
    "    image_arr_with_detections = image_arr.copy()\n",
    "\n",
    "    # Визуализация\n",
    "    visualize_boxes_and_labels_on_image_array(\n",
    "        image_arr_with_detections,\n",
    "        detections[\"detection_boxes\"],\n",
    "        detections[\"detection_classes\"] + label_id_offset,\n",
    "        detections[\"detection_scores\"],\n",
    "        category_index,\n",
    "        # Установка визуализации поверх объекта обнаружения, а не в координатах (0, 0)\n",
    "        use_normalized_coordinates=True,\n",
    "        # Максимальное количество визуализированных полей\n",
    "        max_boxes_to_draw=1,\n",
    "        # Толщина линий поля\n",
    "        line_thickness=2,\n",
    "        # Минимальная отметка точности - 50%\n",
    "        min_score_thresh=0.5\n",
    "#         agnostic_mode=False\n",
    "    )\n",
    "    \n",
    "    # Трансляция с камеры и установка размера окна\n",
    "    cv2.imshow(\n",
    "        'Обнаружение маски. Для выхода нажмите \"q\"',\n",
    "        cv2.resize(image_arr_with_detections, (800, 600))\n",
    "    )\n",
    "    # Проверка на наличие маски\n",
    "    no_mask = (detections[\"detection_classes\"][0])\n",
    "    if no_mask:\n",
    "        snd.play()\n",
    "    else:\n",
    "        snd.stop()\n",
    "        \n",
    "    if cv2.waitKey(1) & 0xFF == ord('q'):\n",
    "        break\n",
    "\n",
    "snd.stop()\n",
    "# Высвобождение камеры\n",
    "camera.release()\n",
    "# Закрытие окон OpenCV\n",
    "cv2.destroyAllWindows()"
   ]
  },
  {
   "cell_type": "code",
   "execution_count": 15,
   "id": "5de0dbba-b4f3-4647-8cb4-464c42147f37",
   "metadata": {},
   "outputs": [],
   "source": [
    "while camera.isOpened():\n",
    "    # Считывание кадров с камеры\n",
    "    _, frame = camera.read()\n",
    "    # Перевод кадров в массив\n",
    "    image_arr = array(frame)\n",
    "    # Перевод массива в тензоры\n",
    "    input_tensor = tf.convert_to_tensor(expand_dims(image_arr, 0), dtype=tf.float32)\n",
    "    detections = detect(input_tensor)\n",
    "    num_detections = int(detections.pop(\"num_detections\"))\n",
    "    detections = {\n",
    "        key: value[0, :num_detections].numpy() for key, value in detections.items()\n",
    "    }\n",
    "    detections[\"num_detections\"] = num_detections\n",
    "    detections[\"detection_classes\"] = detections[\"detection_classes\"].astype(int64)\n",
    "        \n",
    "    # Для отсчёта индекса классов с единицы, вместо нуля\n",
    "    label_id_offset = 1\n",
    "    # Копирование оригинального кадра для наложения визуализации\n",
    "    image_arr_with_detections = image_arr.copy()\n",
    "\n",
    "    # Визуализация\n",
    "    visualize_boxes_and_labels_on_image_array(\n",
    "        image_arr_with_detections,\n",
    "        detections[\"detection_boxes\"],\n",
    "        detections[\"detection_classes\"] + label_id_offset,\n",
    "        detections[\"detection_scores\"],\n",
    "        category_index,\n",
    "        # Установка визуализации поверх объекта обнаружения, а не в координатах (0, 0)\n",
    "        use_normalized_coordinates=True,\n",
    "        # Максимальное количество визуализированных полей\n",
    "        max_boxes_to_draw=1,\n",
    "        # Толщина линий поля\n",
    "        line_thickness=2,\n",
    "        # Минимальная отметка точности - 50%\n",
    "        min_score_thresh=0.5\n",
    "#         agnostic_mode=False\n",
    "    )\n",
    "    \n",
    "    # Трансляция с камеры и установка размера окна\n",
    "    cv2.imshow(\n",
    "        'Обнаружение маски. Для выхода нажмите \"q\"',\n",
    "        cv2.resize(image_arr_with_detections, (800, 600))\n",
    "    )\n",
    "    # Проверка на наличие маски\n",
    "        \n",
    "    if cv2.waitKey(1) & 0xFF == ord('q'):\n",
    "        break\n",
    "\n",
    "# Высвобождение камеры\n",
    "camera.release()\n",
    "# Закрытие окон OpenCV\n",
    "cv2.destroyAllWindows()"
   ]
  },
  {
   "cell_type": "code",
   "execution_count": null,
   "id": "f118e7a3-d7bb-4502-ae28-1608c1756078",
   "metadata": {},
   "outputs": [],
   "source": []
  }
 ],
 "metadata": {
  "kernelspec": {
   "display_name": "Python 3 (ipykernel)",
   "language": "python",
   "name": "python3"
  },
  "language_info": {
   "codemirror_mode": {
    "name": "ipython",
    "version": 3
   },
   "file_extension": ".py",
   "mimetype": "text/x-python",
   "name": "python",
   "nbconvert_exporter": "python",
   "pygments_lexer": "ipython3",
   "version": "3.9.12"
  }
 },
 "nbformat": 4,
 "nbformat_minor": 5
}
