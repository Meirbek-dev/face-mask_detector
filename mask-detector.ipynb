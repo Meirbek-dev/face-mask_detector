{
 "cells": [
  {
   "cell_type": "markdown",
   "id": "dbbbdb08",
   "metadata": {},
   "source": [
    "###### Установка и запуск приложения для отметки изображений"
   ]
  },
  {
   "cell_type": "code",
   "execution_count": null,
   "id": "989a9a54",
   "metadata": {
    "tags": []
   },
   "outputs": [],
   "source": [
    "# !git clone https://github.com/tzutalin/labelImg\n",
    "# !conda install pyqt=5\n",
    "# !conda install -c anaconda lxml\n",
    "# !cd labelImg & pyrcc5 -o libs/resources.py resources.qrc\n",
    "# !python labelImg/labelImg.py"
   ]
  },
  {
   "cell_type": "markdown",
   "id": "785fb830-c180-4ae1-a17b-784ba8c059a9",
   "metadata": {},
   "source": [
    "### Создание директорий"
   ]
  },
  {
   "cell_type": "code",
   "execution_count": null,
   "id": "399935c1-9382-4548-8ac5-09e9c8014820",
   "metadata": {},
   "outputs": [],
   "source": [
    "!mkdir Tensorflow\\workspace\n",
    "!cd Tensorflow\\workspace &mkdir annotations images\\train images\\test models\\my_ssd_mobnet pre-trained-models"
   ]
  },
  {
   "cell_type": "markdown",
   "id": "ce188c67",
   "metadata": {},
   "source": [
    "## 0. Установка путей"
   ]
  },
  {
   "cell_type": "code",
   "execution_count": 3,
   "id": "2b9d76d4",
   "metadata": {},
   "outputs": [],
   "source": [
    "WORKSPACE_PATH = \"Tensorflow/workspace\"\n",
    "APIMODEL_PATH = \"Tensorflow/models\"\n",
    "SCRIPT_PATH = \"Tensorflow/scripts/generate_tfrecord.py\"\n",
    "LABEL_MAP_PATH = WORKSPACE_PATH + \"/annotations/label_map.pbtxt\"\n",
    "TRAIN_RECORD_PATH = WORKSPACE_PATH + \"/annotations/train.record\"\n",
    "TEST_RECORD_PATH = WORKSPACE_PATH + \"/annotations/test.record\"\n",
    "MODEL_PATH = WORKSPACE_PATH + \"/models\"\n",
    "TRAIN_PATH = WORKSPACE_PATH + \"/images/train\"\n",
    "TEST_PATH = WORKSPACE_PATH + \"/images/test\"\n",
    "CHECKPOINT_PATH = MODEL_PATH + \"/my_ssd_mobnet/\"\n",
    "PRETRAINED_MODEL_PATH = WORKSPACE_PATH + \"/pre-trained-models\"\n",
    "PRETRAINED_MODEL_CHECKPOINT = PRETRAINED_MODEL_PATH + \"/ssd_mobilenet_v2_fpnlite_320x320_coco17_tpu-8/checkpoint/ckpt-0\"\n",
    "PRETRAINED_MODEL_CONFIG = PRETRAINED_MODEL_PATH + '/ssd_mobilenet_v2_fpnlite_320x320_coco17_tpu-8/pipeline.config'\n",
    "CUSTOM_MODEL_NAME = \"my_ssd_mobnet\""
   ]
  },
  {
   "cell_type": "markdown",
   "id": "6aa80b5b",
   "metadata": {},
   "source": [
    "## 1. Создание карты меток"
   ]
  },
  {
   "cell_type": "code",
   "execution_count": 2,
   "id": "c84b3e32",
   "metadata": {},
   "outputs": [],
   "source": [
    "labels = [{\"name\": \"Mask\", \"id\": 1}, {\"name\": \"NoMask\", \"id\": 2}]\n",
    "\n",
    "with open(LABEL_MAP_PATH, \"w\") as f:\n",
    "    for label in labels:\n",
    "        f.write(\"item {\\n\" + \n",
    "                \"\\tname: '{name}'\\n\".format(**label) + \n",
    "                \"\\tid:{id}\\n\".format(**label) + \n",
    "                \"}\\n\")"
   ]
  },
  {
   "cell_type": "markdown",
   "id": "136556bf",
   "metadata": {},
   "source": [
    "## 2. Загрузка предварительно обученных моделей TensorFlow"
   ]
  },
  {
   "cell_type": "code",
   "execution_count": 3,
   "id": "f7f923a5",
   "metadata": {},
   "outputs": [],
   "source": [
    "!cd Tensorflow & git clone https://github.com/tensorflow/models"
   ]
  },
  {
   "cell_type": "markdown",
   "id": "5457a57f",
   "metadata": {},
   "source": [
    "### Установка необходимых пакетов для обнаржения объектов"
   ]
  },
  {
   "cell_type": "code",
   "execution_count": 2,
   "id": "bca48375",
   "metadata": {
    "collapsed": true,
    "jupyter": {
     "outputs_hidden": true
    },
    "tags": []
   },
   "outputs": [
    {
     "name": "stdout",
     "output_type": "stream",
     "text": [
      "Processing c:\\users\\squoz\\desktop\\face-mask_detector\\tensorflow\\models\\research\n",
      "  Preparing metadata (setup.py): started\n",
      "  Preparing metadata (setup.py): finished with status 'done'\n",
      "Requirement already satisfied: avro-python3 in c:\\programdata\\anaconda3\\lib\\site-packages (from object-detection==0.1) (1.10.2)\n",
      "Requirement already satisfied: apache-beam in c:\\programdata\\anaconda3\\lib\\site-packages (from object-detection==0.1) (2.37.0)\n",
      "Requirement already satisfied: pillow in c:\\programdata\\anaconda3\\lib\\site-packages (from object-detection==0.1) (9.0.1)\n",
      "Requirement already satisfied: lxml in c:\\programdata\\anaconda3\\lib\\site-packages (from object-detection==0.1) (4.8.0)\n",
      "Requirement already satisfied: matplotlib in c:\\programdata\\anaconda3\\lib\\site-packages (from object-detection==0.1) (3.5.1)\n",
      "Requirement already satisfied: Cython in c:\\programdata\\anaconda3\\lib\\site-packages (from object-detection==0.1) (0.29.28)\n",
      "Requirement already satisfied: contextlib2 in c:\\programdata\\anaconda3\\lib\\site-packages (from object-detection==0.1) (0.6.0.post1)\n",
      "Requirement already satisfied: tf-slim in c:\\programdata\\anaconda3\\lib\\site-packages (from object-detection==0.1) (1.1.0)\n",
      "Requirement already satisfied: six in c:\\programdata\\anaconda3\\lib\\site-packages (from object-detection==0.1) (1.16.0)\n",
      "Requirement already satisfied: pycocotools in c:\\programdata\\anaconda3\\lib\\site-packages (from object-detection==0.1) (2.0.4)\n",
      "Requirement already satisfied: lvis in c:\\programdata\\anaconda3\\lib\\site-packages (from object-detection==0.1) (0.5.3)\n",
      "Requirement already satisfied: scipy in c:\\programdata\\anaconda3\\lib\\site-packages (from object-detection==0.1) (1.7.3)\n",
      "Requirement already satisfied: pandas in c:\\programdata\\anaconda3\\lib\\site-packages (from object-detection==0.1) (1.4.1)\n",
      "Requirement already satisfied: tf-models-official>=2.5.1 in c:\\programdata\\anaconda3\\lib\\site-packages (from object-detection==0.1) (2.8.0)\n",
      "Requirement already satisfied: tensorflow_io in c:\\programdata\\anaconda3\\lib\\site-packages (from object-detection==0.1) (0.24.0)\n",
      "Requirement already satisfied: keras in c:\\programdata\\anaconda3\\lib\\site-packages (from object-detection==0.1) (2.8.0)\n",
      "Requirement already satisfied: opencv-python-headless in c:\\programdata\\anaconda3\\lib\\site-packages (from tf-models-official>=2.5.1->object-detection==0.1) (4.5.5.64)\n",
      "Requirement already satisfied: tensorflow-hub>=0.6.0 in c:\\programdata\\anaconda3\\lib\\site-packages (from tf-models-official>=2.5.1->object-detection==0.1) (0.12.0)\n",
      "Requirement already satisfied: tensorflow-addons in c:\\programdata\\anaconda3\\lib\\site-packages (from tf-models-official>=2.5.1->object-detection==0.1) (0.16.1)\n",
      "Requirement already satisfied: tensorflow-text~=2.8.0 in c:\\programdata\\anaconda3\\lib\\site-packages (from tf-models-official>=2.5.1->object-detection==0.1) (2.8.1)\n",
      "Requirement already satisfied: tensorflow~=2.8.0 in c:\\programdata\\anaconda3\\lib\\site-packages (from tf-models-official>=2.5.1->object-detection==0.1) (2.8.0)\n",
      "Requirement already satisfied: oauth2client in c:\\programdata\\anaconda3\\lib\\site-packages (from tf-models-official>=2.5.1->object-detection==0.1) (4.1.3)\n",
      "Requirement already satisfied: pyyaml<6.0,>=5.1 in c:\\programdata\\anaconda3\\lib\\site-packages (from tf-models-official>=2.5.1->object-detection==0.1) (5.4.1)\n",
      "Requirement already satisfied: tensorflow-datasets in c:\\programdata\\anaconda3\\lib\\site-packages (from tf-models-official>=2.5.1->object-detection==0.1) (4.5.2)\n",
      "Requirement already satisfied: gin-config in c:\\programdata\\anaconda3\\lib\\site-packages (from tf-models-official>=2.5.1->object-detection==0.1) (0.5.0)\n",
      "Requirement already satisfied: sentencepiece in c:\\programdata\\anaconda3\\lib\\site-packages (from tf-models-official>=2.5.1->object-detection==0.1) (0.1.96)\n",
      "Requirement already satisfied: numpy>=1.15.4 in c:\\programdata\\anaconda3\\lib\\site-packages (from tf-models-official>=2.5.1->object-detection==0.1) (1.20.3)\n",
      "Requirement already satisfied: py-cpuinfo>=3.3.0 in c:\\programdata\\anaconda3\\lib\\site-packages (from tf-models-official>=2.5.1->object-detection==0.1) (8.0.0)\n",
      "Requirement already satisfied: sacrebleu in c:\\programdata\\anaconda3\\lib\\site-packages (from tf-models-official>=2.5.1->object-detection==0.1) (2.0.0)\n",
      "Requirement already satisfied: psutil>=5.4.3 in c:\\programdata\\anaconda3\\lib\\site-packages (from tf-models-official>=2.5.1->object-detection==0.1) (5.8.0)\n",
      "Requirement already satisfied: seqeval in c:\\programdata\\anaconda3\\lib\\site-packages (from tf-models-official>=2.5.1->object-detection==0.1) (1.2.2)\n",
      "Requirement already satisfied: kaggle>=1.3.9 in c:\\programdata\\anaconda3\\lib\\site-packages (from tf-models-official>=2.5.1->object-detection==0.1) (1.5.12)\n",
      "Requirement already satisfied: tensorflow-model-optimization>=0.4.1 in c:\\programdata\\anaconda3\\lib\\site-packages (from tf-models-official>=2.5.1->object-detection==0.1) (0.7.2)\n",
      "Requirement already satisfied: google-api-python-client>=1.6.7 in c:\\programdata\\anaconda3\\lib\\site-packages (from tf-models-official>=2.5.1->object-detection==0.1) (2.42.0)\n",
      "Requirement already satisfied: pytz>=2020.1 in c:\\programdata\\anaconda3\\lib\\site-packages (from pandas->object-detection==0.1) (2021.3)\n",
      "Requirement already satisfied: python-dateutil>=2.8.1 in c:\\programdata\\anaconda3\\lib\\site-packages (from pandas->object-detection==0.1) (2.8.2)\n",
      "Requirement already satisfied: absl-py>=0.2.2 in c:\\programdata\\anaconda3\\lib\\site-packages (from tf-slim->object-detection==0.1) (1.0.0)\n",
      "Requirement already satisfied: grpcio<2,>=1.29.0 in c:\\programdata\\anaconda3\\lib\\site-packages (from apache-beam->object-detection==0.1) (1.44.0)\n",
      "Requirement already satisfied: orjson<4.0 in c:\\programdata\\anaconda3\\lib\\site-packages (from apache-beam->object-detection==0.1) (3.6.7)\n",
      "Requirement already satisfied: protobuf<4,>=3.12.2 in c:\\programdata\\anaconda3\\lib\\site-packages (from apache-beam->object-detection==0.1) (3.19.4)\n",
      "Requirement already satisfied: dill<0.3.2,>=0.3.1.1 in c:\\programdata\\anaconda3\\lib\\site-packages (from apache-beam->object-detection==0.1) (0.3.1.1)\n",
      "Requirement already satisfied: cloudpickle<3,>=2.0.0 in c:\\programdata\\anaconda3\\lib\\site-packages (from apache-beam->object-detection==0.1) (2.0.0)\n",
      "Requirement already satisfied: crcmod<2.0,>=1.7 in c:\\programdata\\anaconda3\\lib\\site-packages (from apache-beam->object-detection==0.1) (1.7)\n",
      "Requirement already satisfied: pymongo<4.0.0,>=3.8.0 in c:\\programdata\\anaconda3\\lib\\site-packages (from apache-beam->object-detection==0.1) (3.12.3)\n",
      "Requirement already satisfied: typing-extensions>=3.7.0 in c:\\programdata\\anaconda3\\lib\\site-packages (from apache-beam->object-detection==0.1) (4.1.1)\n",
      "Requirement already satisfied: pydot<2,>=1.2.0 in c:\\programdata\\anaconda3\\lib\\site-packages (from apache-beam->object-detection==0.1) (1.4.2)\n",
      "Requirement already satisfied: hdfs<3.0.0,>=2.1.0 in c:\\programdata\\anaconda3\\lib\\site-packages (from apache-beam->object-detection==0.1) (2.7.0)\n",
      "Requirement already satisfied: proto-plus<2,>=1.7.1 in c:\\programdata\\anaconda3\\lib\\site-packages (from apache-beam->object-detection==0.1) (1.20.3)\n",
      "Requirement already satisfied: fastavro<2,>=0.23.6 in c:\\programdata\\anaconda3\\lib\\site-packages (from apache-beam->object-detection==0.1) (1.4.10)\n",
      "Requirement already satisfied: requests<3.0.0,>=2.24.0 in c:\\programdata\\anaconda3\\lib\\site-packages (from apache-beam->object-detection==0.1) (2.27.1)\n",
      "Requirement already satisfied: pyarrow<7.0.0,>=0.15.1 in c:\\programdata\\anaconda3\\lib\\site-packages (from apache-beam->object-detection==0.1) (6.0.1)\n",
      "Requirement already satisfied: httplib2<0.20.0,>=0.8 in c:\\programdata\\anaconda3\\lib\\site-packages (from apache-beam->object-detection==0.1) (0.19.1)\n",
      "Requirement already satisfied: kiwisolver>=1.1.0 in c:\\programdata\\anaconda3\\lib\\site-packages (from lvis->object-detection==0.1) (1.3.2)\n",
      "Requirement already satisfied: pyparsing>=2.4.0 in c:\\programdata\\anaconda3\\lib\\site-packages (from lvis->object-detection==0.1) (2.4.7)\n",
      "Requirement already satisfied: cycler>=0.10.0 in c:\\programdata\\anaconda3\\lib\\site-packages (from lvis->object-detection==0.1) (0.11.0)\n",
      "Requirement already satisfied: opencv-python>=4.1.0.25 in c:\\programdata\\anaconda3\\lib\\site-packages (from lvis->object-detection==0.1) (4.5.5.64)\n",
      "Requirement already satisfied: packaging>=20.0 in c:\\programdata\\anaconda3\\lib\\site-packages (from matplotlib->object-detection==0.1) (21.3)\n",
      "Requirement already satisfied: fonttools>=4.22.0 in c:\\programdata\\anaconda3\\lib\\site-packages (from matplotlib->object-detection==0.1) (4.25.0)\n",
      "Requirement already satisfied: tensorflow-io-gcs-filesystem==0.24.0 in c:\\programdata\\anaconda3\\lib\\site-packages (from tensorflow_io->object-detection==0.1) (0.24.0)\n",
      "Requirement already satisfied: google-auth-httplib2>=0.1.0 in c:\\programdata\\anaconda3\\lib\\site-packages (from google-api-python-client>=1.6.7->tf-models-official>=2.5.1->object-detection==0.1) (0.1.0)\n",
      "Requirement already satisfied: uritemplate<5,>=3.0.1 in c:\\programdata\\anaconda3\\lib\\site-packages (from google-api-python-client>=1.6.7->tf-models-official>=2.5.1->object-detection==0.1) (4.1.1)\n",
      "Requirement already satisfied: google-auth<3.0.0dev,>=1.16.0 in c:\\programdata\\anaconda3\\lib\\site-packages (from google-api-python-client>=1.6.7->tf-models-official>=2.5.1->object-detection==0.1) (2.6.2)\n",
      "Requirement already satisfied: google-api-core!=2.0.*,!=2.1.*,!=2.2.*,!=2.3.0,<3.0.0dev,>=1.31.5 in c:\\programdata\\anaconda3\\lib\\site-packages (from google-api-python-client>=1.6.7->tf-models-official>=2.5.1->object-detection==0.1) (2.7.1)\n",
      "Requirement already satisfied: docopt in c:\\programdata\\anaconda3\\lib\\site-packages (from hdfs<3.0.0,>=2.1.0->apache-beam->object-detection==0.1) (0.6.2)\n",
      "Requirement already satisfied: tqdm in c:\\programdata\\anaconda3\\lib\\site-packages (from kaggle>=1.3.9->tf-models-official>=2.5.1->object-detection==0.1) (4.63.0)\n",
      "Requirement already satisfied: python-slugify in c:\\programdata\\anaconda3\\lib\\site-packages (from kaggle>=1.3.9->tf-models-official>=2.5.1->object-detection==0.1) (5.0.2)\n",
      "Requirement already satisfied: certifi in c:\\programdata\\anaconda3\\lib\\site-packages (from kaggle>=1.3.9->tf-models-official>=2.5.1->object-detection==0.1) (2021.10.8)\n",
      "Requirement already satisfied: urllib3 in c:\\programdata\\anaconda3\\lib\\site-packages (from kaggle>=1.3.9->tf-models-official>=2.5.1->object-detection==0.1) (1.26.8)\n",
      "Requirement already satisfied: rsa>=3.1.4 in c:\\programdata\\anaconda3\\lib\\site-packages (from oauth2client->tf-models-official>=2.5.1->object-detection==0.1) (4.8)\n",
      "Requirement already satisfied: pyasn1>=0.1.7 in c:\\programdata\\anaconda3\\lib\\site-packages (from oauth2client->tf-models-official>=2.5.1->object-detection==0.1) (0.4.8)\n",
      "Requirement already satisfied: pyasn1-modules>=0.0.5 in c:\\programdata\\anaconda3\\lib\\site-packages (from oauth2client->tf-models-official>=2.5.1->object-detection==0.1) (0.2.8)\n",
      "Requirement already satisfied: idna<4,>=2.5 in c:\\programdata\\anaconda3\\lib\\site-packages (from requests<3.0.0,>=2.24.0->apache-beam->object-detection==0.1) (3.3)\n",
      "Requirement already satisfied: charset-normalizer~=2.0.0 in c:\\programdata\\anaconda3\\lib\\site-packages (from requests<3.0.0,>=2.24.0->apache-beam->object-detection==0.1) (2.0.4)\n",
      "Requirement already satisfied: setuptools in c:\\programdata\\anaconda3\\lib\\site-packages (from tensorflow~=2.8.0->tf-models-official>=2.5.1->object-detection==0.1) (58.0.4)\n",
      "Requirement already satisfied: termcolor>=1.1.0 in c:\\programdata\\anaconda3\\lib\\site-packages (from tensorflow~=2.8.0->tf-models-official>=2.5.1->object-detection==0.1) (1.1.0)\n",
      "Requirement already satisfied: tensorboard<2.9,>=2.8 in c:\\programdata\\anaconda3\\lib\\site-packages (from tensorflow~=2.8.0->tf-models-official>=2.5.1->object-detection==0.1) (2.8.0)\n",
      "Requirement already satisfied: opt-einsum>=2.3.2 in c:\\programdata\\anaconda3\\lib\\site-packages (from tensorflow~=2.8.0->tf-models-official>=2.5.1->object-detection==0.1) (3.3.0)\n",
      "Requirement already satisfied: wrapt>=1.11.0 in c:\\programdata\\anaconda3\\lib\\site-packages (from tensorflow~=2.8.0->tf-models-official>=2.5.1->object-detection==0.1) (1.12.1)\n",
      "Requirement already satisfied: keras-preprocessing>=1.1.1 in c:\\programdata\\anaconda3\\lib\\site-packages (from tensorflow~=2.8.0->tf-models-official>=2.5.1->object-detection==0.1) (1.1.2)\n",
      "Requirement already satisfied: tf-estimator-nightly==2.8.0.dev2021122109 in c:\\programdata\\anaconda3\\lib\\site-packages (from tensorflow~=2.8.0->tf-models-official>=2.5.1->object-detection==0.1) (2.8.0.dev2021122109)\n",
      "Requirement already satisfied: flatbuffers>=1.12 in c:\\programdata\\anaconda3\\lib\\site-packages (from tensorflow~=2.8.0->tf-models-official>=2.5.1->object-detection==0.1) (2.0)\n",
      "Requirement already satisfied: gast>=0.2.1 in c:\\programdata\\anaconda3\\lib\\site-packages (from tensorflow~=2.8.0->tf-models-official>=2.5.1->object-detection==0.1) (0.5.3)\n",
      "Requirement already satisfied: astunparse>=1.6.0 in c:\\programdata\\anaconda3\\lib\\site-packages (from tensorflow~=2.8.0->tf-models-official>=2.5.1->object-detection==0.1) (1.6.3)\n",
      "Requirement already satisfied: google-pasta>=0.1.1 in c:\\programdata\\anaconda3\\lib\\site-packages (from tensorflow~=2.8.0->tf-models-official>=2.5.1->object-detection==0.1) (0.2.0)\n",
      "Requirement already satisfied: libclang>=9.0.1 in c:\\programdata\\anaconda3\\lib\\site-packages (from tensorflow~=2.8.0->tf-models-official>=2.5.1->object-detection==0.1) (13.0.0)\n",
      "Requirement already satisfied: h5py>=2.9.0 in c:\\programdata\\anaconda3\\lib\\site-packages (from tensorflow~=2.8.0->tf-models-official>=2.5.1->object-detection==0.1) (3.6.0)\n",
      "Requirement already satisfied: dm-tree~=0.1.1 in c:\\programdata\\anaconda3\\lib\\site-packages (from tensorflow-model-optimization>=0.4.1->tf-models-official>=2.5.1->object-detection==0.1) (0.1.6)\n",
      "Requirement already satisfied: regex in c:\\programdata\\anaconda3\\lib\\site-packages (from sacrebleu->tf-models-official>=2.5.1->object-detection==0.1) (2021.8.3)\n",
      "Requirement already satisfied: tabulate>=0.8.9 in c:\\programdata\\anaconda3\\lib\\site-packages (from sacrebleu->tf-models-official>=2.5.1->object-detection==0.1) (0.8.9)\n",
      "Requirement already satisfied: portalocker in c:\\programdata\\anaconda3\\lib\\site-packages (from sacrebleu->tf-models-official>=2.5.1->object-detection==0.1) (2.4.0)\n",
      "Requirement already satisfied: colorama in c:\\programdata\\anaconda3\\lib\\site-packages (from sacrebleu->tf-models-official>=2.5.1->object-detection==0.1) (0.4.4)\n",
      "Requirement already satisfied: scikit-learn>=0.21.3 in c:\\programdata\\anaconda3\\lib\\site-packages (from seqeval->tf-models-official>=2.5.1->object-detection==0.1) (1.0.2)\n",
      "Requirement already satisfied: typeguard>=2.7 in c:\\programdata\\anaconda3\\lib\\site-packages (from tensorflow-addons->tf-models-official>=2.5.1->object-detection==0.1) (2.13.3)\n",
      "Requirement already satisfied: promise in c:\\programdata\\anaconda3\\lib\\site-packages (from tensorflow-datasets->tf-models-official>=2.5.1->object-detection==0.1) (2.3)\n",
      "Requirement already satisfied: tensorflow-metadata in c:\\programdata\\anaconda3\\lib\\site-packages (from tensorflow-datasets->tf-models-official>=2.5.1->object-detection==0.1) (1.7.0)\n",
      "Requirement already satisfied: wheel<1.0,>=0.23.0 in c:\\programdata\\anaconda3\\lib\\site-packages (from astunparse>=1.6.0->tensorflow~=2.8.0->tf-models-official>=2.5.1->object-detection==0.1) (0.37.1)\n",
      "Requirement already satisfied: googleapis-common-protos<2.0dev,>=1.52.0 in c:\\programdata\\anaconda3\\lib\\site-packages (from google-api-core!=2.0.*,!=2.1.*,!=2.2.*,!=2.3.0,<3.0.0dev,>=1.31.5->google-api-python-client>=1.6.7->tf-models-official>=2.5.1->object-detection==0.1) (1.56.0)\n",
      "Requirement already satisfied: cachetools<6.0,>=2.0.0 in c:\\programdata\\anaconda3\\lib\\site-packages (from google-auth<3.0.0dev,>=1.16.0->google-api-python-client>=1.6.7->tf-models-official>=2.5.1->object-detection==0.1) (5.0.0)\n",
      "Requirement already satisfied: joblib>=0.11 in c:\\programdata\\anaconda3\\lib\\site-packages (from scikit-learn>=0.21.3->seqeval->tf-models-official>=2.5.1->object-detection==0.1) (1.1.0)\n",
      "Requirement already satisfied: threadpoolctl>=2.0.0 in c:\\programdata\\anaconda3\\lib\\site-packages (from scikit-learn>=0.21.3->seqeval->tf-models-official>=2.5.1->object-detection==0.1) (2.2.0)\n",
      "Requirement already satisfied: tensorboard-plugin-wit>=1.6.0 in c:\\programdata\\anaconda3\\lib\\site-packages (from tensorboard<2.9,>=2.8->tensorflow~=2.8.0->tf-models-official>=2.5.1->object-detection==0.1) (1.8.1)\n",
      "Requirement already satisfied: werkzeug>=0.11.15 in c:\\programdata\\anaconda3\\lib\\site-packages (from tensorboard<2.9,>=2.8->tensorflow~=2.8.0->tf-models-official>=2.5.1->object-detection==0.1) (2.0.3)\n",
      "Requirement already satisfied: google-auth-oauthlib<0.5,>=0.4.1 in c:\\programdata\\anaconda3\\lib\\site-packages (from tensorboard<2.9,>=2.8->tensorflow~=2.8.0->tf-models-official>=2.5.1->object-detection==0.1) (0.4.6)\n",
      "Requirement already satisfied: tensorboard-data-server<0.7.0,>=0.6.0 in c:\\programdata\\anaconda3\\lib\\site-packages (from tensorboard<2.9,>=2.8->tensorflow~=2.8.0->tf-models-official>=2.5.1->object-detection==0.1) (0.6.1)\n",
      "Requirement already satisfied: markdown>=2.6.8 in c:\\programdata\\anaconda3\\lib\\site-packages (from tensorboard<2.9,>=2.8->tensorflow~=2.8.0->tf-models-official>=2.5.1->object-detection==0.1) (3.3.6)\n",
      "Requirement already satisfied: pywin32>=226 in c:\\programdata\\anaconda3\\lib\\site-packages (from portalocker->sacrebleu->tf-models-official>=2.5.1->object-detection==0.1) (302)\n",
      "Requirement already satisfied: text-unidecode>=1.3 in c:\\programdata\\anaconda3\\lib\\site-packages (from python-slugify->kaggle>=1.3.9->tf-models-official>=2.5.1->object-detection==0.1) (1.3)\n",
      "Requirement already satisfied: requests-oauthlib>=0.7.0 in c:\\programdata\\anaconda3\\lib\\site-packages (from google-auth-oauthlib<0.5,>=0.4.1->tensorboard<2.9,>=2.8->tensorflow~=2.8.0->tf-models-official>=2.5.1->object-detection==0.1) (1.3.1)\n",
      "Requirement already satisfied: importlib-metadata>=4.4 in c:\\programdata\\anaconda3\\lib\\site-packages (from markdown>=2.6.8->tensorboard<2.9,>=2.8->tensorflow~=2.8.0->tf-models-official>=2.5.1->object-detection==0.1) (4.8.2)\n",
      "Requirement already satisfied: zipp>=0.5 in c:\\programdata\\anaconda3\\lib\\site-packages (from importlib-metadata>=4.4->markdown>=2.6.8->tensorboard<2.9,>=2.8->tensorflow~=2.8.0->tf-models-official>=2.5.1->object-detection==0.1) (3.7.0)\n",
      "Requirement already satisfied: oauthlib>=3.0.0 in c:\\programdata\\anaconda3\\lib\\site-packages (from requests-oauthlib>=0.7.0->google-auth-oauthlib<0.5,>=0.4.1->tensorboard<2.9,>=2.8->tensorflow~=2.8.0->tf-models-official>=2.5.1->object-detection==0.1) (3.2.0)\n",
      "Building wheels for collected packages: object-detection\n",
      "  Building wheel for object-detection (setup.py): started\n",
      "  Building wheel for object-detection (setup.py): finished with status 'done'\n",
      "  Created wheel for object-detection: filename=object_detection-0.1-py3-none-any.whl size=1664572 sha256=b6e41fa89cbcbcb54b8b36154a66fe341a8d1e20beb9bd2af66be7a9e1be2e77\n",
      "  Stored in directory: C:\\Users\\squoz\\AppData\\Local\\Temp\\pip-ephem-wheel-cache-yljmb7zg\\wheels\\8f\\ee\\22\\a5331a2aa3a5332ea65b7da6f4ddb1e06f51659dff164c65be\n",
      "Successfully built object-detection\n",
      "Installing collected packages: object-detection\n",
      "  Attempting uninstall: object-detection\n",
      "    Found existing installation: object-detection 0.1\n",
      "    Uninstalling object-detection-0.1:\n",
      "      Successfully uninstalled object-detection-0.1\n",
      "Successfully installed object-detection-0.1\n"
     ]
    }
   ],
   "source": [
    "RESEARCH_PATH = \"Tensorflow/models/research\"\n",
    "!cd {RESEARCH_PATH}&protoc object_detection/protos/*.proto --python_out=.\n",
    "!cd {RESEARCH_PATH}&cp object_detection/packages/tf2/setup.py .\n",
    "!cd {RESEARCH_PATH}&python -m pip install ."
   ]
  },
  {
   "cell_type": "markdown",
   "id": "031dd771",
   "metadata": {},
   "source": [
    "## 3. Создание файлов-записей Tensorflow для обучения и тестирования"
   ]
  },
  {
   "cell_type": "code",
   "execution_count": 3,
   "id": "6387ed90",
   "metadata": {},
   "outputs": [
    {
     "name": "stdout",
     "output_type": "stream",
     "text": [
      "Файл TFRecord успешно создан: Tensorflow/workspace/annotations/train.record\n",
      "Файл TFRecord успешно создан: Tensorflow/workspace/annotations/test.record\n"
     ]
    }
   ],
   "source": [
    "!python {SCRIPT_PATH} -x {TRAIN_PATH} -l {LABEL_MAP_PATH} -o {TRAIN_RECORD_PATH}\n",
    "!python {SCRIPT_PATH} -x {TEST_PATH} -l {LABEL_MAP_PATH} -o {TEST_RECORD_PATH}"
   ]
  },
  {
   "cell_type": "markdown",
   "id": "1b3438bf",
   "metadata": {},
   "source": [
    "## 4. Загрузка и распаковка одноэтапной модели обнаружения объектов SSD-MobileNet V2"
   ]
  },
  {
   "cell_type": "code",
   "execution_count": 4,
   "id": "f5274043",
   "metadata": {},
   "outputs": [
    {
     "name": "stdout",
     "output_type": "stream",
     "text": [
      "Requirement already satisfied: wget in c:\\programdata\\anaconda3\\lib\\site-packages (3.2)\n",
      "100% [........................................................................] 20515344 / 20515344ssd_mobilenet_v2_fpnlite_320x320_coco17_tpu-8/\n",
      "ssd_mobilenet_v2_fpnlite_320x320_coco17_tpu-8/checkpoint/\n",
      "ssd_mobilenet_v2_fpnlite_320x320_coco17_tpu-8/checkpoint/ckpt-0.data-00000-of-00001\n",
      "ssd_mobilenet_v2_fpnlite_320x320_coco17_tpu-8/checkpoint/checkpoint\n",
      "ssd_mobilenet_v2_fpnlite_320x320_coco17_tpu-8/checkpoint/ckpt-0.index\n",
      "ssd_mobilenet_v2_fpnlite_320x320_coco17_tpu-8/pipeline.config\n",
      "ssd_mobilenet_v2_fpnlite_320x320_coco17_tpu-8/saved_model/\n",
      "ssd_mobilenet_v2_fpnlite_320x320_coco17_tpu-8/saved_model/saved_model.pb\n",
      "ssd_mobilenet_v2_fpnlite_320x320_coco17_tpu-8/saved_model/variables/\n",
      "ssd_mobilenet_v2_fpnlite_320x320_coco17_tpu-8/saved_model/variables/variables.data-00000-of-00001\n",
      "ssd_mobilenet_v2_fpnlite_320x320_coco17_tpu-8/saved_model/variables/variables.index\n"
     ]
    }
   ],
   "source": [
    "!pip install wget\n",
    "from wget import download\n",
    "SSD_MobNetV2_URL = 'http://download.tensorflow.org/models/object_detection/tf2/20200711/ssd_mobilenet_v2_fpnlite_320x320_coco17_tpu-8.tar.gz'\n",
    "download(SSD_MobNetV2_URL, out = PRETRAINED_MODEL_PATH)\n",
    "# Перемещение в папку с архивом и распаковка\n",
    "!cd {PRETRAINED_MODEL_PATH} & tar -xvf ssd_mobilenet_v2_fpnlite_320x320_coco17_tpu-8.tar.gz"
   ]
  },
  {
   "cell_type": "markdown",
   "id": "47a305af",
   "metadata": {
    "tags": []
   },
   "source": [
    "## 5. Копирование конфигурации модели в папку для обучения"
   ]
  },
  {
   "cell_type": "code",
   "execution_count": 4,
   "id": "332b824b",
   "metadata": {
    "tags": []
   },
   "outputs": [],
   "source": [
    "!cp {PRETRAINED_MODEL_CONFIG} {MODEL_PATH + '/' + CUSTOM_MODEL_NAME}"
   ]
  },
  {
   "cell_type": "markdown",
   "id": "9abdb680",
   "metadata": {},
   "source": [
    "## 6. Обновления конфигурации для трансферного обучения"
   ]
  },
  {
   "cell_type": "code",
   "execution_count": 5,
   "id": "45a2838b",
   "metadata": {},
   "outputs": [],
   "source": [
    "import tensorflow as tf\n",
    "from google.protobuf.text_format import Merge, MessageToString\n",
    "from object_detection.protos.pipeline_pb2 import TrainEvalPipelineConfig"
   ]
  },
  {
   "cell_type": "markdown",
   "id": "34b3b065-2cdb-470c-9d6d-da000882d253",
   "metadata": {},
   "source": [
    "Проверка доступности видеокарты"
   ]
  },
  {
   "cell_type": "code",
   "execution_count": 6,
   "id": "eca0507e-8c21-481d-acc6-5f7c971052e8",
   "metadata": {},
   "outputs": [
    {
     "name": "stdout",
     "output_type": "stream",
     "text": [
      "Количество доступных видеокарт: 1\n",
      "WARNING:tensorflow:From C:\\Users\\squoz\\AppData\\Local\\Temp\\ipykernel_9328\\2422194179.py:4: is_gpu_available (from tensorflow.python.framework.test_util) is deprecated and will be removed in a future version.\n",
      "Instructions for updating:\n",
      "Use `tf.config.list_physical_devices('GPU')` instead.\n",
      "Вычислительная мощность CUDA больше 5.0: True\n"
     ]
    }
   ],
   "source": [
    "gpu_available = tf.config.list_physical_devices('GPU')\n",
    "print(\"Количество доступных видеокарт:\", len(gpu_available))\n",
    "\n",
    "is_cuda_gpu_min_5 = tf.test.is_gpu_available(True, (5,0))\n",
    "print('Вычислительная мощность CUDA больше 5.0:', is_cuda_gpu_min_5)"
   ]
  },
  {
   "cell_type": "code",
   "execution_count": 10,
   "id": "5f14cd7b",
   "metadata": {},
   "outputs": [],
   "source": [
    "CONFIG_FILE = MODEL_PATH + \"/\" + CUSTOM_MODEL_NAME + \"/pipeline.config\"\n",
    "pipeline_config = TrainEvalPipelineConfig()\n",
    "\n",
    "with tf.io.gfile.GFile(CONFIG_FILE, \"r\") as f:\n",
    "    proto_str = f.read()\n",
    "    Merge(proto_str, pipeline_config)"
   ]
  },
  {
   "cell_type": "markdown",
   "id": "3def713f-3532-4744-b48b-ffe3d296307d",
   "metadata": {},
   "source": [
    "Список изменений в конфигурации"
   ]
  },
  {
   "cell_type": "code",
   "execution_count": 8,
   "id": "bceb59fa",
   "metadata": {},
   "outputs": [],
   "source": [
    "pipeline_config.model.ssd.num_classes = 2\n",
    "pipeline_config.train_config.batch_size = 8\n",
    "pipeline_config.train_config.fine_tune_checkpoint = (PRETRAINED_MODEL_PATH + \"/ssd_mobilenet_v2_fpnlite_320x320_coco17_tpu-8/checkpoint/ckpt-0\")\n",
    "pipeline_config.train_config.fine_tune_checkpoint_type = \"detection\"\n",
    "pipeline_config.train_input_reader.label_map_path = LABEL_MAP_PATH\n",
    "pipeline_config.train_input_reader.tf_record_input_reader.input_path[:] = [TRAIN_RECORD_PATH]\n",
    "pipeline_config.eval_input_reader[0].label_map_path = LABEL_MAP_PATH\n",
    "pipeline_config.eval_input_reader[0].tf_record_input_reader.input_path[:] = [TEST_RECORD_PATH]"
   ]
  },
  {
   "cell_type": "markdown",
   "id": "2d2b3714-0dbe-4554-9a5f-2512b614cd2c",
   "metadata": {},
   "source": [
    "Запись изменений в файл конфигурации"
   ]
  },
  {
   "cell_type": "code",
   "execution_count": 9,
   "id": "4d316faa",
   "metadata": {
    "scrolled": true
   },
   "outputs": [],
   "source": [
    "config_text = MessageToString(pipeline_config)\n",
    "with tf.io.gfile.GFile(CONFIG_FILE, \"wb\") as f:\n",
    "    f.write(config_text)"
   ]
  },
  {
   "cell_type": "markdown",
   "id": "57e24638",
   "metadata": {},
   "source": [
    "## 7. Тренировка модели"
   ]
  },
  {
   "cell_type": "markdown",
   "id": "4c0b0974-7f2e-42ad-8e42-f03312e44d72",
   "metadata": {},
   "source": [
    "Для тренировки модели необходимо запустить выведенную команду в корневой директории проекта и только после завершения тренировки продолжить запуск кода"
   ]
  },
  {
   "cell_type": "code",
   "execution_count": 11,
   "id": "7e4a2bd7",
   "metadata": {},
   "outputs": [
    {
     "name": "stdout",
     "output_type": "stream",
     "text": [
      "python Tensorflow/models/research/object_detection/model_main_tf2.py --model_dir=Tensorflow/workspace/models/my_ssd_mobnet --pipeline_config_path=Tensorflow/workspace/models/my_ssd_mobnet/pipeline.config --num_train_steps=6000\n"
     ]
    }
   ],
   "source": [
    "print(f\"python {APIMODEL_PATH}/research/object_detection/model_main_tf2.py \" \n",
    "      f\"--model_dir={MODEL_PATH}/{CUSTOM_MODEL_NAME} \"\n",
    "      f\"--pipeline_config_path={MODEL_PATH}/{CUSTOM_MODEL_NAME}/pipeline.config \"\n",
    "      \"--num_train_steps=6000\")"
   ]
  },
  {
   "cell_type": "markdown",
   "id": "87d8a848-3a24-445d-b169-0d46bc63cd78",
   "metadata": {},
   "source": [
    "## 8. Загрузка тренировочной модели с чекпоинта"
   ]
  },
  {
   "cell_type": "code",
   "execution_count": 12,
   "id": "2067af44",
   "metadata": {},
   "outputs": [],
   "source": [
    "from object_detection.builders.model_builder import build\n",
    "from object_detection.utils.config_util import get_configs_from_pipeline_file\n",
    "from os.path import join"
   ]
  },
  {
   "cell_type": "markdown",
   "id": "0f9f42c0-addc-4e91-9902-2c22291c79ce",
   "metadata": {},
   "source": [
    "Загрузка конфигурации и построение модели обнаружения"
   ]
  },
  {
   "cell_type": "code",
   "execution_count": 13,
   "id": "7c18dd96",
   "metadata": {},
   "outputs": [],
   "source": [
    "configs = get_configs_from_pipeline_file(CONFIG_FILE)\n",
    "detection_model = build(model_config=configs[\"model\"], is_training=False)"
   ]
  },
  {
   "cell_type": "markdown",
   "id": "abd2b886-bd77-483a-8e06-1a6a8612726a",
   "metadata": {},
   "source": [
    "Восстановление точки сохранения"
   ]
  },
  {
   "cell_type": "code",
   "execution_count": 14,
   "id": "f777f0d9-069e-42d5-a017-d2e6e862eefc",
   "metadata": {},
   "outputs": [
    {
     "data": {
      "text/plain": [
       "<tensorflow.python.training.tracking.util.CheckpointLoadStatus at 0x1a516c26c40>"
      ]
     },
     "execution_count": 14,
     "metadata": {},
     "output_type": "execute_result"
    }
   ],
   "source": [
    "ckpt = tf.compat.v2.train.Checkpoint(model=detection_model)\n",
    "ckpt.restore(join(CHECKPOINT_PATH, \"ckpt-11\")).expect_partial()"
   ]
  },
  {
   "cell_type": "code",
   "execution_count": 15,
   "id": "bace070c",
   "metadata": {},
   "outputs": [],
   "source": [
    "@tf.function\n",
    "def detect(image):\n",
    "    image, shapes = detection_model.preprocess(image)\n",
    "    prediction_dict = detection_model.predict(image, shapes)\n",
    "    detections = detection_model.postprocess(prediction_dict, shapes)\n",
    "    return detections"
   ]
  },
  {
   "cell_type": "markdown",
   "id": "c9efb20d",
   "metadata": {},
   "source": [
    "## 9. Обнаружение маски в реальном времени"
   ]
  },
  {
   "cell_type": "code",
   "execution_count": 16,
   "id": "c6bad920",
   "metadata": {},
   "outputs": [],
   "source": [
    "import cv2\n",
    "from tkinter import Tk\n",
    "from tkinter.messagebox import askyesno\n",
    "from vlc import MediaPlayer\n",
    "from numpy import array, expand_dims, int64\n",
    "from object_detection.utils.label_map_util import create_category_index_from_labelmap\n",
    "from object_detection.utils.visualization_utils import visualize_boxes_and_labels_on_image_array"
   ]
  },
  {
   "cell_type": "code",
   "execution_count": 17,
   "id": "b473c03b",
   "metadata": {},
   "outputs": [],
   "source": [
    "category_index = create_category_index_from_labelmap(LABEL_MAP_PATH)"
   ]
  },
  {
   "cell_type": "code",
   "execution_count": 18,
   "id": "e520ab97",
   "metadata": {
    "pycharm": {
     "name": "#%%\n"
    },
    "tags": []
   },
   "outputs": [],
   "source": [
    "# Видеозахват веб-камеры. В качестве аргумента указывается ID-устройства, либо путь к медиафайлу\n",
    "camera = cv2.VideoCapture(0)\n",
    "# # Получение ширины и высоты окна\n",
    "# width, height = ( \n",
    "#     int(camera.get(cv2.CAP_PROP_FRAME_WIDTH)),\n",
    "#     int(camera.get(cv2.CAP_PROP_FRAME_HEIGHT)),\n",
    "# )\n",
    "\n",
    "root = Tk()\n",
    "root.withdraw()\n",
    "\n",
    "snd = MediaPlayer(\"sounds/sound-2.mp3\")\n",
    "\n",
    "while True:\n",
    "    # Считывание кадров с камеры\n",
    "    _, frame = camera.read()\n",
    "    # Перевод кадров в массив\n",
    "    image_arr = array(frame)\n",
    "    # Перевод массива в тензоры\n",
    "    input_tensor = tf.convert_to_tensor(expand_dims(image_arr, 0), dtype=tf.float32)\n",
    "    detections = detect(input_tensor)\n",
    "    num_detections = int(detections.pop(\"num_detections\"))\n",
    "    detections = {\n",
    "        key: value[0, :num_detections].numpy() for key, value in detections.items()\n",
    "    }\n",
    "    detections[\"num_detections\"] = num_detections\n",
    "    detections[\"detection_classes\"] = detections[\"detection_classes\"].astype(int64)\n",
    "        \n",
    "    # Для отсчёта индекса классов с единицы, вместо нуля\n",
    "    label_id_offset = 1\n",
    "    # Копирование оригинального кадра для наложения визуализации\n",
    "    image_arr_with_detections = image_arr.copy()\n",
    "\n",
    "    # Визуализация\n",
    "    visualize_boxes_and_labels_on_image_array(\n",
    "        image_arr_with_detections,\n",
    "        detections[\"detection_boxes\"],\n",
    "        detections[\"detection_classes\"] + label_id_offset,\n",
    "        detections[\"detection_scores\"],\n",
    "        category_index,\n",
    "        # Установка визуализации поверх объекта обнаружения, а не в координатах (0, 0)\n",
    "        use_normalized_coordinates=True,\n",
    "        # Максимальное количество визуализированных полей\n",
    "        max_boxes_to_draw=1,\n",
    "        # Толщина линий поля\n",
    "        line_thickness=2,\n",
    "        # Минимальная отметка точн/ости - 50%\n",
    "        min_score_thresh=0.5\n",
    "#         agnostic_mode=False\n",
    "    )\n",
    "    \n",
    "    # Трансляция с камеры и установка размера окна\n",
    "    cv2.imshow(\n",
    "        'Обнаружение маски. Для выхода нажмите \"q\"',\n",
    "        cv2.resize(image_arr_with_detections, (1000, 750))\n",
    "    )\n",
    "    # Проверка на наличие маски\n",
    "    no_mask = (detections[\"detection_classes\"][0])\n",
    "#     if no_mask:\n",
    "#         snd.play()\n",
    "#     else:\n",
    "#         snd.stop()\n",
    "        \n",
    "    if no_mask:\n",
    "        prompt = askyesno(\n",
    "            'Предупреждение',\n",
    "            'Наденьте маску и нажмите \"Yes\", чтобы продолжить\\nНажмите \"No\", чтобы выйти'\n",
    "        ) \n",
    "        if prompt == True:\n",
    "            continue\n",
    "        elif prompt == False:\n",
    "            break\n",
    "\n",
    "    # Привязка завершения цикла обнаружения на клавишу 'q'\n",
    "    if cv2.waitKey(1) & 0xFF == ord('q'):\n",
    "        break\n",
    "\n",
    "snd.stop()\n",
    "root.quit()\n",
    "# Высвобождение камеры\n",
    "camera.release()\n",
    "# Закрытие окон OpenCV\n",
    "cv2.destroyAllWindows()"
   ]
  },
  {
   "cell_type": "code",
   "execution_count": null,
   "id": "f4bacdd7-6ee7-4e7d-9462-7236aaa73c30",
   "metadata": {},
   "outputs": [],
   "source": []
  },
  {
   "cell_type": "code",
   "execution_count": null,
   "id": "978e5f1c",
   "metadata": {},
   "outputs": [],
   "source": []
  }
 ],
 "metadata": {
  "kernelspec": {
   "display_name": "Python 3 (ipykernel)",
   "language": "python",
   "name": "python3"
  },
  "language_info": {
   "codemirror_mode": {
    "name": "ipython",
    "version": 3
   },
   "file_extension": ".py",
   "mimetype": "text/x-python",
   "name": "python",
   "nbconvert_exporter": "python",
   "pygments_lexer": "ipython3",
   "version": "3.9.11"
  }
 },
 "nbformat": 4,
 "nbformat_minor": 5
}
